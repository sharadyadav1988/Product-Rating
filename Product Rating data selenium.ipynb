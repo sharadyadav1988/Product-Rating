{
 "cells": [
  {
   "cell_type": "code",
   "execution_count": 58,
   "metadata": {},
   "outputs": [
    {
     "name": "stdout",
     "output_type": "stream",
     "text": [
      "Requirement already satisfied: selenium in c:\\users\\inpshy\\anaconda3\\lib\\site-packages (3.141.0)\n",
      "Requirement already satisfied: urllib3 in c:\\users\\inpshy\\anaconda3\\lib\\site-packages (from selenium) (1.25.11)\n"
     ]
    }
   ],
   "source": [
    "#lets install lhe selenium libariries\n",
    "!pip install selenium"
   ]
  },
  {
   "cell_type": "code",
   "execution_count": 59,
   "metadata": {},
   "outputs": [],
   "source": [
    "# Importing Libraries\n",
    "import selenium\n",
    "import pandas as pd\n",
    "import time\n",
    "import numpy as np\n",
    "from bs4 import BeautifulSoup\n",
    "\n",
    "# Importing selenium webdriver \n",
    "from selenium import webdriver\n",
    "\n",
    "# Importing required Exceptions which needs to handled\n",
    "from selenium.common.exceptions import StaleElementReferenceException, NoSuchElementException\n",
    "\n",
    "#Importing requests\n",
    "import requests\n",
    "\n",
    "# importing regex\n",
    "import re\n",
    "import urllib3"
   ]
  },
  {
   "cell_type": "code",
   "execution_count": 60,
   "metadata": {},
   "outputs": [],
   "source": [
    "#lets first connect with webdriver\n",
    "driver=webdriver.Chrome(r\"C:\\Users\\INPshy\\Downloads\\chromedriver_win32 (11)\\chromedriver.exe\")"
   ]
  },
  {
   "cell_type": "code",
   "execution_count": 61,
   "metadata": {},
   "outputs": [],
   "source": [
    "#URL link\n",
    "url='https://www.amazon.in/'\n",
    "driver.get(url)"
   ]
  },
  {
   "cell_type": "code",
   "execution_count": 62,
   "metadata": {},
   "outputs": [],
   "source": [
    "search=driver.find_element_by_id('twotabsearchtextbox')\n",
    "search.send_keys('Watches')\n",
    "time.sleep(4)"
   ]
  },
  {
   "cell_type": "code",
   "execution_count": 63,
   "metadata": {},
   "outputs": [],
   "source": [
    "watch=driver.find_element_by_id('nav-search-submit-button')\n",
    "watch.click()\n",
    "time.sleep(5)"
   ]
  },
  {
   "cell_type": "code",
   "execution_count": 93,
   "metadata": {},
   "outputs": [
    {
     "ename": "NoSuchElementException",
     "evalue": "Message: no such element: Unable to locate element: {\"method\":\"xpath\",\"selector\":\"//li[@class='a-normal']/a[2]/li\"}\n  (Session info: chrome=95.0.4638.69)\n",
     "output_type": "error",
     "traceback": [
      "\u001b[1;31m---------------------------------------------------------------------------\u001b[0m",
      "\u001b[1;31mNoSuchElementException\u001b[0m                    Traceback (most recent call last)",
      "\u001b[1;32m<ipython-input-93-124fa82efc0d>\u001b[0m in \u001b[0;36m<module>\u001b[1;34m\u001b[0m\n\u001b[0;32m      7\u001b[0m     \u001b[1;32mfor\u001b[0m \u001b[0mi\u001b[0m \u001b[1;32min\u001b[0m \u001b[0murl\u001b[0m\u001b[1;33m:\u001b[0m\u001b[1;33m\u001b[0m\u001b[1;33m\u001b[0m\u001b[0m\n\u001b[0;32m      8\u001b[0m         \u001b[0mproduct_urls\u001b[0m\u001b[1;33m.\u001b[0m\u001b[0mappend\u001b[0m\u001b[1;33m(\u001b[0m\u001b[0mi\u001b[0m\u001b[1;33m.\u001b[0m\u001b[0mget_attribute\u001b[0m\u001b[1;33m(\u001b[0m\u001b[1;34m\"href\"\u001b[0m\u001b[1;33m)\u001b[0m\u001b[1;33m)\u001b[0m                        \u001b[1;31m#appending the urls in product_urls list\u001b[0m\u001b[1;33m\u001b[0m\u001b[1;33m\u001b[0m\u001b[0m\n\u001b[1;32m----> 9\u001b[1;33m     \u001b[0mnxt_button\u001b[0m\u001b[1;33m=\u001b[0m\u001b[0mdriver\u001b[0m\u001b[1;33m.\u001b[0m\u001b[0mfind_element_by_xpath\u001b[0m\u001b[1;33m(\u001b[0m\u001b[1;34m\"//li[@class='a-normal']/a[2]/li\"\u001b[0m\u001b[1;33m)\u001b[0m     \u001b[1;31m#scraping the list of buttons from the page\u001b[0m\u001b[1;33m\u001b[0m\u001b[1;33m\u001b[0m\u001b[0m\n\u001b[0m\u001b[0;32m     10\u001b[0m     \u001b[0mnxt_button\u001b[0m\u001b[1;33m.\u001b[0m\u001b[0mclick\u001b[0m\u001b[1;33m(\u001b[0m\u001b[1;33m)\u001b[0m\u001b[1;33m\u001b[0m\u001b[1;33m\u001b[0m\u001b[0m\n\u001b[0;32m     11\u001b[0m     \u001b[0mtime\u001b[0m\u001b[1;33m.\u001b[0m\u001b[0msleep\u001b[0m\u001b[1;33m(\u001b[0m\u001b[1;36m2\u001b[0m\u001b[1;33m)\u001b[0m\u001b[1;33m\u001b[0m\u001b[1;33m\u001b[0m\u001b[0m\n",
      "\u001b[1;32m~\\Anaconda3\\lib\\site-packages\\selenium\\webdriver\\remote\\webdriver.py\u001b[0m in \u001b[0;36mfind_element_by_xpath\u001b[1;34m(self, xpath)\u001b[0m\n\u001b[0;32m    392\u001b[0m             \u001b[0melement\u001b[0m \u001b[1;33m=\u001b[0m \u001b[0mdriver\u001b[0m\u001b[1;33m.\u001b[0m\u001b[0mfind_element_by_xpath\u001b[0m\u001b[1;33m(\u001b[0m\u001b[1;34m'//div/td[1]'\u001b[0m\u001b[1;33m)\u001b[0m\u001b[1;33m\u001b[0m\u001b[1;33m\u001b[0m\u001b[0m\n\u001b[0;32m    393\u001b[0m         \"\"\"\n\u001b[1;32m--> 394\u001b[1;33m         \u001b[1;32mreturn\u001b[0m \u001b[0mself\u001b[0m\u001b[1;33m.\u001b[0m\u001b[0mfind_element\u001b[0m\u001b[1;33m(\u001b[0m\u001b[0mby\u001b[0m\u001b[1;33m=\u001b[0m\u001b[0mBy\u001b[0m\u001b[1;33m.\u001b[0m\u001b[0mXPATH\u001b[0m\u001b[1;33m,\u001b[0m \u001b[0mvalue\u001b[0m\u001b[1;33m=\u001b[0m\u001b[0mxpath\u001b[0m\u001b[1;33m)\u001b[0m\u001b[1;33m\u001b[0m\u001b[1;33m\u001b[0m\u001b[0m\n\u001b[0m\u001b[0;32m    395\u001b[0m \u001b[1;33m\u001b[0m\u001b[0m\n\u001b[0;32m    396\u001b[0m     \u001b[1;32mdef\u001b[0m \u001b[0mfind_elements_by_xpath\u001b[0m\u001b[1;33m(\u001b[0m\u001b[0mself\u001b[0m\u001b[1;33m,\u001b[0m \u001b[0mxpath\u001b[0m\u001b[1;33m)\u001b[0m\u001b[1;33m:\u001b[0m\u001b[1;33m\u001b[0m\u001b[1;33m\u001b[0m\u001b[0m\n",
      "\u001b[1;32m~\\Anaconda3\\lib\\site-packages\\selenium\\webdriver\\remote\\webdriver.py\u001b[0m in \u001b[0;36mfind_element\u001b[1;34m(self, by, value)\u001b[0m\n\u001b[0;32m    974\u001b[0m                 \u001b[0mby\u001b[0m \u001b[1;33m=\u001b[0m \u001b[0mBy\u001b[0m\u001b[1;33m.\u001b[0m\u001b[0mCSS_SELECTOR\u001b[0m\u001b[1;33m\u001b[0m\u001b[1;33m\u001b[0m\u001b[0m\n\u001b[0;32m    975\u001b[0m                 \u001b[0mvalue\u001b[0m \u001b[1;33m=\u001b[0m \u001b[1;34m'[name=\"%s\"]'\u001b[0m \u001b[1;33m%\u001b[0m \u001b[0mvalue\u001b[0m\u001b[1;33m\u001b[0m\u001b[1;33m\u001b[0m\u001b[0m\n\u001b[1;32m--> 976\u001b[1;33m         return self.execute(Command.FIND_ELEMENT, {\n\u001b[0m\u001b[0;32m    977\u001b[0m             \u001b[1;34m'using'\u001b[0m\u001b[1;33m:\u001b[0m \u001b[0mby\u001b[0m\u001b[1;33m,\u001b[0m\u001b[1;33m\u001b[0m\u001b[1;33m\u001b[0m\u001b[0m\n\u001b[0;32m    978\u001b[0m             'value': value})['value']\n",
      "\u001b[1;32m~\\Anaconda3\\lib\\site-packages\\selenium\\webdriver\\remote\\webdriver.py\u001b[0m in \u001b[0;36mexecute\u001b[1;34m(self, driver_command, params)\u001b[0m\n\u001b[0;32m    319\u001b[0m         \u001b[0mresponse\u001b[0m \u001b[1;33m=\u001b[0m \u001b[0mself\u001b[0m\u001b[1;33m.\u001b[0m\u001b[0mcommand_executor\u001b[0m\u001b[1;33m.\u001b[0m\u001b[0mexecute\u001b[0m\u001b[1;33m(\u001b[0m\u001b[0mdriver_command\u001b[0m\u001b[1;33m,\u001b[0m \u001b[0mparams\u001b[0m\u001b[1;33m)\u001b[0m\u001b[1;33m\u001b[0m\u001b[1;33m\u001b[0m\u001b[0m\n\u001b[0;32m    320\u001b[0m         \u001b[1;32mif\u001b[0m \u001b[0mresponse\u001b[0m\u001b[1;33m:\u001b[0m\u001b[1;33m\u001b[0m\u001b[1;33m\u001b[0m\u001b[0m\n\u001b[1;32m--> 321\u001b[1;33m             \u001b[0mself\u001b[0m\u001b[1;33m.\u001b[0m\u001b[0merror_handler\u001b[0m\u001b[1;33m.\u001b[0m\u001b[0mcheck_response\u001b[0m\u001b[1;33m(\u001b[0m\u001b[0mresponse\u001b[0m\u001b[1;33m)\u001b[0m\u001b[1;33m\u001b[0m\u001b[1;33m\u001b[0m\u001b[0m\n\u001b[0m\u001b[0;32m    322\u001b[0m             response['value'] = self._unwrap_value(\n\u001b[0;32m    323\u001b[0m                 response.get('value', None))\n",
      "\u001b[1;32m~\\Anaconda3\\lib\\site-packages\\selenium\\webdriver\\remote\\errorhandler.py\u001b[0m in \u001b[0;36mcheck_response\u001b[1;34m(self, response)\u001b[0m\n\u001b[0;32m    240\u001b[0m                 \u001b[0malert_text\u001b[0m \u001b[1;33m=\u001b[0m \u001b[0mvalue\u001b[0m\u001b[1;33m[\u001b[0m\u001b[1;34m'alert'\u001b[0m\u001b[1;33m]\u001b[0m\u001b[1;33m.\u001b[0m\u001b[0mget\u001b[0m\u001b[1;33m(\u001b[0m\u001b[1;34m'text'\u001b[0m\u001b[1;33m)\u001b[0m\u001b[1;33m\u001b[0m\u001b[1;33m\u001b[0m\u001b[0m\n\u001b[0;32m    241\u001b[0m             \u001b[1;32mraise\u001b[0m \u001b[0mexception_class\u001b[0m\u001b[1;33m(\u001b[0m\u001b[0mmessage\u001b[0m\u001b[1;33m,\u001b[0m \u001b[0mscreen\u001b[0m\u001b[1;33m,\u001b[0m \u001b[0mstacktrace\u001b[0m\u001b[1;33m,\u001b[0m \u001b[0malert_text\u001b[0m\u001b[1;33m)\u001b[0m\u001b[1;33m\u001b[0m\u001b[1;33m\u001b[0m\u001b[0m\n\u001b[1;32m--> 242\u001b[1;33m         \u001b[1;32mraise\u001b[0m \u001b[0mexception_class\u001b[0m\u001b[1;33m(\u001b[0m\u001b[0mmessage\u001b[0m\u001b[1;33m,\u001b[0m \u001b[0mscreen\u001b[0m\u001b[1;33m,\u001b[0m \u001b[0mstacktrace\u001b[0m\u001b[1;33m)\u001b[0m\u001b[1;33m\u001b[0m\u001b[1;33m\u001b[0m\u001b[0m\n\u001b[0m\u001b[0;32m    243\u001b[0m \u001b[1;33m\u001b[0m\u001b[0m\n\u001b[0;32m    244\u001b[0m     \u001b[1;32mdef\u001b[0m \u001b[0m_value_or_default\u001b[0m\u001b[1;33m(\u001b[0m\u001b[0mself\u001b[0m\u001b[1;33m,\u001b[0m \u001b[0mobj\u001b[0m\u001b[1;33m,\u001b[0m \u001b[0mkey\u001b[0m\u001b[1;33m,\u001b[0m \u001b[0mdefault\u001b[0m\u001b[1;33m)\u001b[0m\u001b[1;33m:\u001b[0m\u001b[1;33m\u001b[0m\u001b[1;33m\u001b[0m\u001b[0m\n",
      "\u001b[1;31mNoSuchElementException\u001b[0m: Message: no such element: Unable to locate element: {\"method\":\"xpath\",\"selector\":\"//li[@class='a-normal']/a[2]/li\"}\n  (Session info: chrome=95.0.4638.69)\n"
     ]
    }
   ],
   "source": [
    "# scrape all product urls\n",
    "product_urls = []\n",
    "start=0\n",
    "end=3\n",
    "for page in range(start,end):#for loop for scrapping 3 page\n",
    "    url=driver.find_elements_by_xpath('//a[@class=\"a-link-normal a-text-normal\"]')       #scraping urls\n",
    "    for i in url:\n",
    "        product_urls.append(i.get_attribute(\"href\"))                        #appending the urls in product_urls list\n",
    "    nxt_button=driver.find_element_by_xpath(\"//li[@class='a-normal']/a[2]\")     #scraping the list of buttons from the page\n",
    "    nxt_button.click()\n",
    "    time.sleep(2)\n",
    "\n",
    "#Make empty lists\n",
    "Brand = []  \n",
    "Name = []\n",
    "Rating = []\n",
    "no_of_ratings = []\n",
    "Price = []\n",
    "\n",
    "for url in product_urls:\n",
    "    driver.get(url)\n",
    "    time.sleep(2)\n",
    "    \n",
    "    # Extracting Brand from xpath\n",
    "    try:\n",
    "        brand = driver.find_element_by_xpath('//div[@class=\"a-expander-content a-expander-section-content a-section-expander-inner\"]/table/tbody/tr[1]/td')      \n",
    "        Brand.append(brand.text) \n",
    "    except NoSuchElementException:\n",
    "        Brand.append('-')    \n",
    "\n",
    "\n",
    "    time.sleep(1)\n",
    "    # Extracting name from id\n",
    "    try:\n",
    "        name = driver.find_element_by_id('productTitle')      \n",
    "        Name.append(name.text)\n",
    "    except NoSuchElementException:\n",
    "        Name.append('-')\n",
    "\n",
    "\n",
    "    time.sleep(1)    \n",
    "    # Extracting Ratings from xpath    \n",
    "    try:\n",
    "        rating = driver.find_element_by_xpath('//span[@class=\"a-size-base a-nowrap\"]//span')  \n",
    "        Rating.append(rating.text)\n",
    "    except NoSuchElementException:\n",
    "        Rating.append('-')\n",
    "    \n",
    "        # Extracting No of Ratings from xpath\n",
    "    try:\n",
    "        no_rating = driver.find_element_by_id('acrCustomerReviewText')  \n",
    "        no_of_ratings.append(no_rating.text)\n",
    "    except NoSuchElementException:\n",
    "        no_of_ratings.append('-')\n",
    "\n",
    "\n",
    "    time.sleep(1)\n",
    "    # Extracting price from xpath    \n",
    "    try:\n",
    "        price = driver.find_element_by_xpath('//td[@class=\"a-span12\"]')  \n",
    "        Price.append(price.text)\n",
    "    except NoSuchElementException:\n",
    "        Price.append('-')"
   ]
  },
  {
   "cell_type": "code",
   "execution_count": 70,
   "metadata": {},
   "outputs": [
    {
     "data": {
      "text/plain": [
       "[\"NIBOSI Chronograph Men's Watch ( Black Dial & Strap )\",\n",
       " \"TIMEWEAR Digital Men's Watch\",\n",
       " 'RAW STAR Day and Date Functioning Colored Dial Adjustable Metal Strap Analog Watch for Men (Pack of 3) - RS0102CO',\n",
       " \"Victorinox Chrono Classic Analog Black Dial Men's Watch-241443\",\n",
       " 'Gionee STYLFIT GSW6 Smartwatch with Bluetooth Calling and Music, Built-in Mic & Speaker, 1.7” Display, Multiple Watch Faces, SpO2 & 24 * 7 HR Monitoring, Full Touch Control (Light Gray)',\n",
       " \"Fastrack Fleek Analog Dial Women's Watch\",\n",
       " \"Espoir Analog Stainless Steel Pink Dial Girl's and Women's Watch - ManishaPink0507\",\n",
       " \"Relish Analogue Men's Watch ( Black Dial & Strap )\",\n",
       " \"Redux MW-404 Analogue Green Dial Men’s & Boy's Watch\",\n",
       " 'SHREE NOVA ID116 Plus Bluetooth Fitness Smart Watch for Men Women and Kids Activity Tracker (Black)',\n",
       " \"Citizen Eco-Drive Chronograph Men's Watch - CA4034-50A\",\n",
       " 'Fire-Boltt Ring Bluetooth Calling Smartwatch with SpO2 & 1.7” Metal Body with Blood Oxygen Monitoring, Continuous Heart Rate, Full Touch & Multiple Watch Faces (Black), M (BSW005)',\n",
       " \"Acnos Brand - A Digital Watch with Square LED Shockproof Multi-Functional Automatic 5 Color Army Strap Waterproof Digital Sports Watch for Men's Kids Watch for Boys - Watch for Men\",\n",
       " \"Espoir Analogue Men's & Boy's Watch\",\n",
       " 'SRI JI ID116 Plus Bluetooth Fitness Smart Watch for Men Women and Kids Activity Tracker (Black)',\n",
       " \"Generic Dazon Analogue Unique Arrow Silicon Analog Men's Watch (Black Dial Black Colored Strap)(Pack of 1)\",\n",
       " \"RUSTET Analogue - Digital Men's Watch (Black Dial Black Colored Strap - 1155)\",\n",
       " 'TechKing (Today Only Deal:10 Years Warranty) Waterproof Smart Watch D20 Touch Men Women Fitness Tracker Blood Pressure Heart Rate Monitor for Girls & Boys with K1 Wireless Bluetooth Headset Hand-Free Calling Sweatproof',\n",
       " \"Timex Analog Black Dial Men's Watch-TW00ZR264E\",\n",
       " 'The Watch Company Digital Black Dial Led Watch for Kids Unisex Birthday Gift Digital Watch - for Boys & Girls',\n",
       " \"Redux Analog Blue-Grey Dial Men's Watch\",\n",
       " 'Redux Digital Sports Multi-Functional Army Color Strap Watch for Boys & Kids',\n",
       " \"Wrath Dual Tone Black Chronograph Luxury Watch for Men's & Boys\",\n",
       " \"Men's Watch\",\n",
       " 'CROSSVOLT USB Fast W26 Cable, Watch Charger Magnetic 2 pin, Watch Charger, Boat Storm Smartwatch Adapter Length 45 cm for Smart Watch',\n",
       " 'Vills Laurrens Digital Black Dial Led Watch for Kids Unisex Birthday Gift Digital Watch',\n",
       " 'TIMEWEAR Analog Number Dial Leather Strap Watch for Men',\n",
       " \"SWISSTYLE Analogue Men's Watch\",\n",
       " \"Shocknshop Analogue Girl's & Boy's Watch (Pack of 2) ( White Dial Pink & Purple Colored Strap )\",\n",
       " \"JAGER Analogue Men's Watch (Black Dial Black Colored Strap)\",\n",
       " 'POPIO Flexible PET Screen Guard Protector Compatible for Apple Watch Series 4, Series 5, Series 6 (Black), Pack of 1, 44mm',\n",
       " \"SF Venus Digital Digital Grey Round Dial Men's Sport Watch-NM7982PP04\",\n",
       " 'Shopify Digital (Date And Time )Black Dial LED Watch for Kids Unisex Birthday Gift Digital Watch for Boys & Girls | Pack of 2',\n",
       " \"Drealex Analogue Leather Strap Girls & Women's Watch (Black & White Dial Black & White Colored Strap) (Pack of 2)\",\n",
       " 'Espoir Stainless Steel Day and Date Blue Dial Analog Mens Watch Nail0507',\n",
       " \"LORENZ Luxury Brown Leather Men's Wallet And Watch Combo Set (5G-CUHL-XQAR)\",\n",
       " 'MAGBOT QTX Bluetoth Wireless Smart Watch Fitness Band for Boys, Girls, Men, Women & Kids | Sports Watch for All Smart Phones I Heart Rate and BP Monitor',\n",
       " 'Teal By Chumbak Live Slow Watch & Bracelet Set - Peach & Rose Gold - Jewelry Watch, Wrist Watch for Women, Dress Watch, Fashion Accessory with Bracelet Set, Slim Strap',\n",
       " \"Decode Matrix Analogue Men's Watch (Black Dial Black Colored Strap)\",\n",
       " 'SELLORIA Black Dial Digital Watch with Black Sunglass with Baseball Cap Black',\n",
       " \"VILLS LAURRENS Analogue Men's Watch (Black Dial Silver Colored Strap)\",\n",
       " \"Casera Transparent Strap Watch Heavy Quality Digital Alarm Shockproof Multi-Functional Automatic Waterproof Digital Sports Watch for Men's Kids Watch for Boys\",\n",
       " 'realme Smart Watch 2 Pro (Space Grey) with 4.45 cm (1.75\") HD Super Bright Touchscreen, Dual-Satellite GPS, 14-Day Battery, SpO2 & Heart Rate Monitoring, IP68 Water Resistance',\n",
       " \"SWISSTYLE Analogue Men's Watch (Black Dial Black Colored Strap)\",\n",
       " 'Redux Digital Sports Watch Multi-Functional Watch for Boys',\n",
       " \"Acnos Brand - A Digital Watch with Square LED Shockproof Multi-Functional Automatic Black Color Strap Waterproof Digital Sports Watch for Men's Kids Watch for Boys Watch for Men Pack of 2\",\n",
       " 'mobicell Bluetooth Wireless Smart Fitness Watch for Boys,Men,Kids,Women Sports Watch Heart Rate, and BP Monitor, Calories Counter',\n",
       " \"Espoir Chronograph NOT Working Analog White Dial Men's Watch - ES 109\",\n",
       " 'Noise ColorFit Ultra Bezel-Less Smart Watch with 1.75\" HD TruView Display, 60 Sports Modes, SpO2, Heart Rate, Stress, REM & Sleep Monitor, Calls & SMS Quick Reply, Stock Market Info (Gunmetal Grey)',\n",
       " \"RPS FASHION WITH DEVICE OF R R P S Fashion New Arrival Wedding Seasons Special Casual, Dress, Fashion, Luxury Collection Analogue Men's Watch(Black Dial Brawon Colored Strap)-SR344C\",\n",
       " \"Talgo Analog Women's Watch (Black Dial, Black Colored Strap)\",\n",
       " 'Acnos Black Round Diamond Dial with Latest Generation Purple & Rosegold Magnet Belt Analogue Watch for Women Pack of - 2 (DM-PURPLE-ROSEGOLD05)',\n",
       " 'Sonata Analog Watches for Men',\n",
       " 'Fire-Boltt SpO2 Full Touch 1.4 inch Smart Watch 400 Nits Peak Brightness Metal Body 8 Days Battery Life with 24*7 Heart Rate monitoring IPX7 with Blood Oxygen, Fitness, Sports & Sleep Tracking (Black)',\n",
       " \"Casera Metal Strap Analogue Multicolour Dial Women's Watches Bangle Combo - Pack of 3\",\n",
       " 'SYL  Latest ID116 Plus Better Quality Bluetooth Fitness Smart Watch for Men and Women Activity Tracker - (Black)',\n",
       " \"Wenger Swiss Made Urban Classic Chrono Chronograph Black Dial Men's Watch-01.1743.102\",\n",
       " \"Wenger Swiss Made Urban Classic Analog Men's Watch - 01.1731.$2\",\n",
       " \"Wenger Swiss Made Urban Classic Chrono Chronograph Men's Watch\",\n",
       " \"Foxter Analogue Men's Watch (Black Colored Strap) (Pack of 3)\",\n",
       " 'Amazfit GTS 2e Smartwatch, SpO2 & Stress Monitor, 1.65 Always-on AMOLED Display, Built-in GPS, Built-in Alexa,14-Day Battery Life, 90+ Sports Models, 50+ Watch Faces Obsidian Black, Regular',\n",
       " \"LOUIS DEVIN Analogue Women's Watch(Blue Dial Silver Colored Strap)-LD-L144-BLU-CH\",\n",
       " 'Fire TV Stick Lite with Alexa Voice Remote Lite | Stream HD Quality Video | No power and volume buttons',\n",
       " 'Pebble Pace Smart Watch with Full Touch Dynamic Colour Display, Multiple Sports Mode, HR, Sleep and BP Monitoring (Rose Gold) for Women',\n",
       " 'Mortein (SMART) Mosquito Repellent Machine and Refill - 45ml | 100% Protection against Dengue, Changes Modes Automatically',\n",
       " 'Smart Watch D116 For Xiaomi Redmi 2 Prime Touchscreen Smart Watch Bluetooth 1.3\" Smart watch LED with Daily Activity Tracker, Heart Rate Sensor, Sleep Monitor and Basic Functionality for All Boys & Girls Wristband - Black',\n",
       " 'Smart Watch D116 For Xiaomi Redmi 1S, Mi 1S, Mi 1 S, Mi One S, Xiomi Mi One S, XiaomiRedmi1S, Xiaomi Redmi One S Touchscreen Smart Watch Bluetooth 1.3\" Smart watch LED with Daily Activity Tracker, Heart Rate Sensor, Sleep Monitor and Basic Functionality for All Boys & Girls Wristband - Black',\n",
       " 'IIK COLLECTION Round Studded Dial Metalic Bracelet Chain Strap Analogue Wrist Watch for Men and Boys',\n",
       " 'TIMEWEAR Slim Series Two Hands Black Leather Strap Watch for Men',\n",
       " \"Jacques Lemans Analog Black Dial Men's Watch - 1-1117EN\",\n",
       " \"Redux RWS0202S Analogue Blue & Grey Dial Men's & Boy's Watch\",\n",
       " \"Titan Karishma Analog Black Dial Men's Watch NM1639SM02/NN1639SM02\",\n",
       " \"Casera Metal Strap Analogue Multicolour Dial Women's Watches Bangle Combo - Pack of 3\",\n",
       " \"TAGG Verve NEO Smartwatch with 1.69'' Large Display, Real SPO2, and Real-Time Heart Rate Tracking, 10 Days Battery Backup, IPX68 Waterproof|| Black, Standard\",\n",
       " 'Teal By Chumbak Ombre Aztec Watch - Teal - Watch for Women, Analog Strap Watch, Metal Dial, Ladies Wrist Watch, Casual Watch for Girls, Printed Strap',\n",
       " \"Sonata Analog White Dial Men's Watch -NJ7987YL02W\",\n",
       " 'Rizzer M4 Intelligence Bluetooth Wrist Smartwatch Band with Activity Tracker, Bracelet Watch, Smart Fitness Band with Heart Rate Sensor Compatible All Androids iOS Phone',\n",
       " 'Shocknshop Digital Sports Multi Functional Black Dial Watch for Mens Boys -315RED',\n",
       " 'TIMEWEAR Slim Series Two Hands Brown Leather Strap Watch for Men',\n",
       " 'PunnkFunnk PFT55 Smartwatch Full Touch Smartwatch with Bluetooth Calling, IP68 Waterproof, Heart Rate Monitor Smart Band, Sleep Monitoring Smart Watches',\n",
       " \"Decode Matrix Analogue Men's Watch (Black Dial Brown Colored Strap)\",\n",
       " \"Men's Watch (Black Colored Strap)\",\n",
       " \"DREAM VILLA Analogue Multicolor Dial and Strap Men's and Women's Watch\",\n",
       " \"Citizen Eco-Drive Super Titanium Men's Watch - CA4241-55A\",\n",
       " \"SWADESI STUFF Digital Boy's Watch (Black Dial, Multicolored Strap)\",\n",
       " \"SWISSTONE Analogue Women's Watch (Blue Dial Silver Colored Strap)\",\n",
       " 'ehook Smart Watch D116 for Touchscreen Smart Watch Bluetooth 1.3\" Smart Watch LED with Daily Activity - Black',\n",
       " 'Giordano Mens Slim Analog Watch - GD-4064',\n",
       " 'Redux Digital Sports Multi-Functional Army Color Strap Watch for Boys & Kids',\n",
       " 'Giordano Mens Analog Watch - GD4060',\n",
       " \"Wenger Swiss Made Urban Classic Analog Men's Watch\",\n",
       " 'Noise ColorFit Pulse Spo2 Smart Watch 1.4\" Full Touch HD Display, 10 Days Battery Life with Heart Rate, Sleep Monitoring & IP68 Waterproof (Mist Grey)',\n",
       " 'Noise ColorFit Ultra Bezel-Less Smart Watch with 1.75\" HD TruView Display, 60 Sports Modes, SpO2, Heart Rate, Stress, REM & Sleep Monitor, Calls & SMS Quick Reply, Stock Market Info (Cloud Grey)',\n",
       " 'Shocknshop Outdoor Sports Digital Black Dial Mens Boys Watch (Black, Back)',\n",
       " \"ADAMO Enchant Women's and Girl's Watch Case Diameter : 33 MM\",\n",
       " 'BENYAR - Wrist Watch for Men, Genuine Leather Strap Watches, Quartz Movement, Waterproof Analog Chronograph Watches',\n",
       " \"LORENZ Combo of Black Men's Wallet, Sunglasses & Watch | Choose Any one | Brown Wallet, Army Design Wallet, Blue Wallet or Black Wallet\",\n",
       " \"SWISSTONE Analogue Women's Watch (Black Dial Black Colored Strap)\",\n",
       " 'Maxima Max Pro X6 Bluetooth Calling Smartwatch with SpO2,1.7\" Large Screen Full Touch HD Display of 400 Nits, HRM, Upto 3 Days Battery Life with Calling Function and 10 Days Without Calling Function',\n",
       " 'MARVIK® XT9 Bluetooth Smartwatch Wireless Fitness Band for Boys, Girls, Men, Women & Kids | Sports Gym Watch for All Smart Phones I Heart Rate and BP Monitor - Black',\n",
       " \"Titan Karishma Analog Silver Dial Men's Watch NM1739BM01/NN1739BM01\",\n",
       " \"Goldenize fashion New Digital LED Men & Women's Combo of 2 Watches\",\n",
       " 'Acnos 4 Stylist Analog Watches Combo Set for Women Pack of-4(605-blk-sb-org-blu)',\n",
       " \"Emartos Analogue Men's/Boy's Watch (Black Dial & Strap)\",\n",
       " 'POPIO Flexible PET Screen Guard Protector Compatible for OnePlus Watch (Black)',\n",
       " 'Noise ColoFit Pro 3 Smartwatch - Rose Pink',\n",
       " \"Metallic Blue Square LED Multi-Functional Automatic Sports Watch for Men's Kids Watch for Boys, Girls, Women- Watch for Men led Digital Digital Watch - for Men & Women (Black)\",\n",
       " \"Fossil Gen 5 Carlyle Stainless Steel Touchscreen Men's Smartwatch with Speaker, Heart Rate, GPS and Smartphone Notifications - FTW4024 , black\",\n",
       " 'French Connection F1 Touch Screen Unisex Smartwatch with Heart Rate & Blood Pressure Monitoring',\n",
       " \"Decode Analogue Men's Watch (Black Dial Black Colored Strap)\",\n",
       " 'Smart Watch W26 Plus 1.75 inch Infinite Screen 44 mm Bluetooth Call ECG Temperature Waterproof Level IP68 Exercise Modes',\n",
       " \"Fossil Analog Rose Gold Dial Women's Watch-BQ3181\",\n",
       " \"Relish Analogue Men's Watch ( Black Dial & Strap )\",\n",
       " \"casera Formal Analogue Girl's Watch with Metal Strap(Multicolour Dial multicolour Colored Strap)-3 combo set\",\n",
       " \"RPS Fashion with Device of RLuxury Analogue Women's Watch (Black Dial Black Colored)\",\n",
       " 'Humble Silicone 19mm Replacement Band Strap with Metal Buckle Compatible with Noise Colorfit Pro 2 , Boat Storm Smart Watch & Watches with 19mm Lugs (Black)',\n",
       " \"Casio Youth-Combination Analog-Digital Black Dial Men's Watch-AEQ-110W-1AVDF (AD207)\",\n",
       " 'Matrix Day & Date Display Analog Wrist Watch for Men & Boys',\n",
       " 'SAIELLIN Smart Watch ID116 for Nubia Red Magic 2 Touchscreen Smart Watch Bluetooth 1.3\" Smart Watch LED with Daily Activity Tracker, Heart Rate Sensor-RED',\n",
       " \"Emartos Analogue Women's & Girl's Watch (White Dial Multi Colored Strap)\",\n",
       " \"7seven Analogue Gold Dial Women's & Girls Watch\",\n",
       " 'SWADESI STUFF Square Multi DIAL Analog Silicon Strap ADDI Stylish Designer Analog Watch - for Boys',\n",
       " 'Acnos Special Super Look Like Handsome Quality Analog Combo Watches for Boys and Combo Watches for Mens Pack of 3(436-24-17)',\n",
       " 'Redux Dual Time Analog-Digital LED Display Watch for Men',\n",
       " \"Decode Matrix Analogue Men's Watch (Black Dial Brown Colored Strap)\",\n",
       " 'Wenger Seaforce Chrono Analogue Swiss Made Watch',\n",
       " 'Talgo Analogue Minimalist Round Black Dial Latest Generation Stainless Steel Linked Chain Black Strap Stylish Wrist Watch for Men and Boys, Pack of 1 - IIKBKMEN',\n",
       " 'Amazfit GTS 2e Smartwatch, SpO2 & Stress Monitor, 1.65 Always-on AMOLED Display, Built-in GPS, Built-in Alexa,14-Day Battery Life, 90+ Sports Models, 50+ Watch Faces Obsidian Black, Regular',\n",
       " \"LOUIS DEVIN Analogue Women's Watch(Blue Dial Silver Colored Strap)-LD-L144-BLU-CH\",\n",
       " 'Fire TV Stick Lite with Alexa Voice Remote Lite | Stream HD Quality Video | No power and volume buttons',\n",
       " 'Pebble Pace Smart Watch with Full Touch Dynamic Colour Display, Multiple Sports Mode, HR, Sleep and BP Monitoring (Rose Gold) for Women',\n",
       " 'Mortein (SMART) Mosquito Repellent Machine and Refill - 45ml | 100% Protection against Dengue, Changes Modes Automatically',\n",
       " 'Smart Watch D116 For Xiaomi Redmi 2 Prime Touchscreen Smart Watch Bluetooth 1.3\" Smart watch LED with Daily Activity Tracker, Heart Rate Sensor, Sleep Monitor and Basic Functionality for All Boys & Girls Wristband - Black',\n",
       " 'Smart Watch D116 For Xiaomi Redmi 1S, Mi 1S, Mi 1 S, Mi One S, Xiomi Mi One S, XiaomiRedmi1S, Xiaomi Redmi One S Touchscreen Smart Watch Bluetooth 1.3\" Smart watch LED with Daily Activity Tracker, Heart Rate Sensor, Sleep Monitor and Basic Functionality for All Boys & Girls Wristband - Black',\n",
       " \"NIBOSI Chronograph Men's Watch ( Black Dial & Strap )\",\n",
       " \"TIMEWEAR Digital Men's Watch\",\n",
       " 'RAW STAR Day and Date Functioning Colored Dial Adjustable Metal Strap Analog Watch for Men (Pack of 3) - RS0102CO',\n",
       " \"Victorinox Chrono Classic Analog Black Dial Men's Watch-241443\",\n",
       " 'Gionee STYLFIT GSW6 Smartwatch with Bluetooth Calling and Music, Built-in Mic & Speaker, 1.7” Display, Multiple Watch Faces, SpO2 & 24 * 7 HR Monitoring, Full Touch Control (Light Gray)',\n",
       " \"Fastrack Fleek Analog Dial Women's Watch\",\n",
       " \"Espoir Analog Stainless Steel Pink Dial Girl's and Women's Watch - ManishaPink0507\",\n",
       " \"Relish Analogue Men's Watch ( Black Dial & Strap )\",\n",
       " \"Redux MW-404 Analogue Green Dial Men’s & Boy's Watch\",\n",
       " 'SHREE NOVA ID116 Plus Bluetooth Fitness Smart Watch for Men Women and Kids Activity Tracker (Black)',\n",
       " \"Citizen Eco-Drive Chronograph Men's Watch - CA4034-50A\",\n",
       " 'Fire-Boltt Ring Bluetooth Calling Smartwatch with SpO2 & 1.7” Metal Body with Blood Oxygen Monitoring, Continuous Heart Rate, Full Touch & Multiple Watch Faces (Black), M (BSW005)',\n",
       " \"Acnos Brand - A Digital Watch with Square LED Shockproof Multi-Functional Automatic 5 Color Army Strap Waterproof Digital Sports Watch for Men's Kids Watch for Boys - Watch for Men\",\n",
       " \"Espoir Analogue Men's & Boy's Watch\",\n",
       " 'SRI JI ID116 Plus Bluetooth Fitness Smart Watch for Men Women and Kids Activity Tracker (Black)',\n",
       " \"Generic Dazon Analogue Unique Arrow Silicon Analog Men's Watch (Black Dial Black Colored Strap)(Pack of 1)\",\n",
       " \"RUSTET Analogue - Digital Men's Watch (Black Dial Black Colored Strap - 1155)\",\n",
       " 'TechKing (Today Only Deal:10 Years Warranty) Waterproof Smart Watch D20 Touch Men Women Fitness Tracker Blood Pressure Heart Rate Monitor for Girls & Boys with K1 Wireless Bluetooth Headset Hand-Free Calling Sweatproof',\n",
       " \"Timex Analog Black Dial Men's Watch-TW00ZR264E\",\n",
       " 'The Watch Company Digital Black Dial Led Watch for Kids Unisex Birthday Gift Digital Watch - for Boys & Girls',\n",
       " \"Redux Analog Blue-Grey Dial Men's Watch\",\n",
       " 'Redux Digital Sports Multi-Functional Army Color Strap Watch for Boys & Kids',\n",
       " \"Wrath Dual Tone Black Chronograph Luxury Watch for Men's & Boys\",\n",
       " \"Men's Watch\",\n",
       " 'CROSSVOLT USB Fast W26 Cable, Watch Charger Magnetic 2 pin, Watch Charger, Boat Storm Smartwatch Adapter Length 45 cm for Smart Watch',\n",
       " 'Vills Laurrens Digital Black Dial Led Watch for Kids Unisex Birthday Gift Digital Watch',\n",
       " 'TIMEWEAR Analog Number Dial Leather Strap Watch for Men',\n",
       " \"SWISSTYLE Analogue Men's Watch\",\n",
       " \"Shocknshop Analogue Girl's & Boy's Watch (Pack of 2) ( White Dial Pink & Purple Colored Strap )\",\n",
       " \"JAGER Analogue Men's Watch (Black Dial Black Colored Strap)\",\n",
       " 'POPIO Flexible PET Screen Guard Protector Compatible for Apple Watch Series 4, Series 5, Series 6 (Black), Pack of 1, 44mm',\n",
       " \"SF Venus Digital Digital Grey Round Dial Men's Sport Watch-NM7982PP04\",\n",
       " 'Shopify Digital (Date And Time )Black Dial LED Watch for Kids Unisex Birthday Gift Digital Watch for Boys & Girls | Pack of 2',\n",
       " \"Drealex Analogue Leather Strap Girls & Women's Watch (Black & White Dial Black & White Colored Strap) (Pack of 2)\",\n",
       " 'Espoir Stainless Steel Day and Date Blue Dial Analog Mens Watch Nail0507',\n",
       " \"LORENZ Luxury Brown Leather Men's Wallet And Watch Combo Set (5G-CUHL-XQAR)\",\n",
       " 'MAGBOT QTX Bluetoth Wireless Smart Watch Fitness Band for Boys, Girls, Men, Women & Kids | Sports Watch for All Smart Phones I Heart Rate and BP Monitor',\n",
       " 'Teal By Chumbak Live Slow Watch & Bracelet Set - Peach & Rose Gold - Jewelry Watch, Wrist Watch for Women, Dress Watch, Fashion Accessory with Bracelet Set, Slim Strap',\n",
       " \"Decode Matrix Analogue Men's Watch (Black Dial Black Colored Strap)\",\n",
       " 'SELLORIA Black Dial Digital Watch with Black Sunglass with Baseball Cap Black',\n",
       " \"VILLS LAURRENS Analogue Men's Watch (Black Dial Silver Colored Strap)\",\n",
       " \"Casera Transparent Strap Watch Heavy Quality Digital Alarm Shockproof Multi-Functional Automatic Waterproof Digital Sports Watch for Men's Kids Watch for Boys\",\n",
       " 'realme Smart Watch 2 Pro (Space Grey) with 4.45 cm (1.75\") HD Super Bright Touchscreen, Dual-Satellite GPS, 14-Day Battery, SpO2 & Heart Rate Monitoring, IP68 Water Resistance',\n",
       " \"SWISSTYLE Analogue Men's Watch (Black Dial Black Colored Strap)\",\n",
       " 'Redux Digital Sports Watch Multi-Functional Watch for Boys',\n",
       " \"Acnos Brand - A Digital Watch with Square LED Shockproof Multi-Functional Automatic Black Color Strap Waterproof Digital Sports Watch for Men's Kids Watch for Boys Watch for Men Pack of 2\",\n",
       " 'mobicell Bluetooth Wireless Smart Fitness Watch for Boys,Men,Kids,Women Sports Watch Heart Rate, and BP Monitor, Calories Counter',\n",
       " \"Espoir Chronograph NOT Working Analog White Dial Men's Watch - ES 109\",\n",
       " 'Noise ColorFit Ultra Bezel-Less Smart Watch with 1.75\" HD TruView Display, 60 Sports Modes, SpO2, Heart Rate, Stress, REM & Sleep Monitor, Calls & SMS Quick Reply, Stock Market Info (Gunmetal Grey)',\n",
       " \"RPS FASHION WITH DEVICE OF R R P S Fashion New Arrival Wedding Seasons Special Casual, Dress, Fashion, Luxury Collection Analogue Men's Watch(Black Dial Brawon Colored Strap)-SR344C\",\n",
       " \"Talgo Analog Women's Watch (Black Dial, Black Colored Strap)\",\n",
       " 'Acnos Black Round Diamond Dial with Latest Generation Purple & Rosegold Magnet Belt Analogue Watch for Women Pack of - 2 (DM-PURPLE-ROSEGOLD05)',\n",
       " 'Sonata Analog Watches for Men',\n",
       " 'Fire-Boltt SpO2 Full Touch 1.4 inch Smart Watch 400 Nits Peak Brightness Metal Body 8 Days Battery Life with 24*7 Heart Rate monitoring IPX7 with Blood Oxygen, Fitness, Sports & Sleep Tracking (Black)',\n",
       " \"Casera Metal Strap Analogue Multicolour Dial Women's Watches Bangle Combo - Pack of 3\",\n",
       " 'SYL  Latest ID116 Plus Better Quality Bluetooth Fitness Smart Watch for Men and Women Activity Tracker - (Black)',\n",
       " \"Wenger Swiss Made Urban Classic Chrono Chronograph Black Dial Men's Watch-01.1743.102\",\n",
       " \"Wenger Swiss Made Urban Classic Analog Men's Watch - 01.1731.$2\",\n",
       " \"Wenger Swiss Made Urban Classic Chrono Chronograph Men's Watch\",\n",
       " \"Foxter Analogue Men's Watch (Black Colored Strap) (Pack of 3)\",\n",
       " 'Amazfit GTS 2e Smartwatch, SpO2 & Stress Monitor, 1.65 Always-on AMOLED Display, Built-in GPS, Built-in Alexa,14-Day Battery Life, 90+ Sports Models, 50+ Watch Faces Obsidian Black, Regular',\n",
       " \"LOUIS DEVIN Analogue Women's Watch(Blue Dial Silver Colored Strap)-LD-L144-BLU-CH\",\n",
       " 'Fire TV Stick Lite with Alexa Voice Remote Lite | Stream HD Quality Video | No power and volume buttons',\n",
       " 'Pebble Pace Smart Watch with Full Touch Dynamic Colour Display, Multiple Sports Mode, HR, Sleep and BP Monitoring (Rose Gold) for Women',\n",
       " 'Mortein (SMART) Mosquito Repellent Machine and Refill - 45ml | 100% Protection against Dengue, Changes Modes Automatically',\n",
       " 'Smart Watch D116 For Xiaomi Redmi 2 Prime Touchscreen Smart Watch Bluetooth 1.3\" Smart watch LED with Daily Activity Tracker, Heart Rate Sensor, Sleep Monitor and Basic Functionality for All Boys & Girls Wristband - Black',\n",
       " 'Smart Watch D116 For Xiaomi Redmi 1S, Mi 1S, Mi 1 S, Mi One S, Xiomi Mi One S, XiaomiRedmi1S, Xiaomi Redmi One S Touchscreen Smart Watch Bluetooth 1.3\" Smart watch LED with Daily Activity Tracker, Heart Rate Sensor, Sleep Monitor and Basic Functionality for All Boys & Girls Wristband - Black']"
      ]
     },
     "execution_count": 70,
     "metadata": {},
     "output_type": "execute_result"
    }
   ],
   "source": [
    "Name"
   ]
  },
  {
   "cell_type": "code",
   "execution_count": 73,
   "metadata": {},
   "outputs": [
    {
     "data": {
      "text/plain": [
       "['4.1 out of 5',\n",
       " '3.8 out of 5',\n",
       " '-',\n",
       " '4.4 out of 5',\n",
       " '-',\n",
       " '4.5 out of 5',\n",
       " '3.7 out of 5',\n",
       " '3.5 out of 5',\n",
       " '3 out of 5',\n",
       " '3.2 out of 5',\n",
       " '3.9 out of 5',\n",
       " '4.1 out of 5',\n",
       " '3.8 out of 5',\n",
       " '3.5 out of 5',\n",
       " '4.5 out of 5',\n",
       " '3.2 out of 5',\n",
       " '4 out of 5',\n",
       " '3.5 out of 5',\n",
       " '4.2 out of 5',\n",
       " '2.8 out of 5',\n",
       " '3.5 out of 5',\n",
       " '3.5 out of 5',\n",
       " '5 out of 5',\n",
       " '3.8 out of 5',\n",
       " '-',\n",
       " '2.9 out of 5',\n",
       " '3.8 out of 5',\n",
       " '3.4 out of 5',\n",
       " '3.6 out of 5',\n",
       " '3.8 out of 5',\n",
       " '2.8 out of 5',\n",
       " '4.1 out of 5',\n",
       " '2.5 out of 5',\n",
       " '3.8 out of 5',\n",
       " '3.7 out of 5',\n",
       " '3.9 out of 5',\n",
       " '3.2 out of 5',\n",
       " '4.3 out of 5',\n",
       " '3.4 out of 5',\n",
       " '3.9 out of 5',\n",
       " '3.6 out of 5',\n",
       " '3.8 out of 5',\n",
       " '4.2 out of 5',\n",
       " '3.5 out of 5',\n",
       " '3.6 out of 5',\n",
       " '3.7 out of 5',\n",
       " '2 out of 5',\n",
       " '3.4 out of 5',\n",
       " '4 out of 5',\n",
       " '3.4 out of 5',\n",
       " '3.9 out of 5',\n",
       " '3.9 out of 5',\n",
       " '4.4 out of 5',\n",
       " '4 out of 5',\n",
       " '3.7 out of 5',\n",
       " '5 out of 5',\n",
       " '3.8 out of 5',\n",
       " '2 out of 5',\n",
       " '-',\n",
       " '4.2 out of 5',\n",
       " '4.1 out of 5',\n",
       " '4 out of 5',\n",
       " '4.4 out of 5',\n",
       " '4 out of 5',\n",
       " '3.9 out of 5',\n",
       " '-',\n",
       " '-',\n",
       " '3.6 out of 5',\n",
       " '3.8 out of 5',\n",
       " '3.1 out of 5',\n",
       " '3.7 out of 5',\n",
       " '4.3 out of 5',\n",
       " '3.7 out of 5',\n",
       " '3.9 out of 5',\n",
       " '4.4 out of 5',\n",
       " '4.2 out of 5',\n",
       " '3 out of 5',\n",
       " '3.8 out of 5',\n",
       " '3.8 out of 5',\n",
       " '3.3 out of 5',\n",
       " '3.4 out of 5',\n",
       " '3.6 out of 5',\n",
       " '3.9 out of 5',\n",
       " '3.5 out of 5',\n",
       " '3.8 out of 5',\n",
       " '4.1 out of 5',\n",
       " '5 out of 5',\n",
       " '5 out of 5',\n",
       " '3.5 out of 5',\n",
       " '-',\n",
       " '3.1 out of 5',\n",
       " '4 out of 5',\n",
       " '4 out of 5',\n",
       " '4 out of 5',\n",
       " '3.9 out of 5',\n",
       " '-',\n",
       " '3.7 out of 5',\n",
       " '3.7 out of 5',\n",
       " '-',\n",
       " '5 out of 5',\n",
       " '4.4 out of 5',\n",
       " '3.2 out of 5',\n",
       " '4 out of 5',\n",
       " '3.3 out of 5',\n",
       " '4.2 out of 5',\n",
       " '4.1 out of 5',\n",
       " '2.9 out of 5',\n",
       " '4.1 out of 5',\n",
       " '3.3 out of 5',\n",
       " '3.5 out of 5',\n",
       " '2.9 out of 5',\n",
       " '4.5 out of 5',\n",
       " '3.4 out of 5',\n",
       " '3.8 out of 5',\n",
       " '3.6 out of 5',\n",
       " '4.2 out of 5',\n",
       " '4.3 out of 5',\n",
       " '3.5 out of 5',\n",
       " '2 out of 5',\n",
       " '3.6 out of 5',\n",
       " '4.1 out of 5',\n",
       " '3.7 out of 5',\n",
       " '3.5 out of 5',\n",
       " '3.5 out of 5',\n",
       " '3.4 out of 5',\n",
       " '3 out of 5',\n",
       " '3.8 out of 5',\n",
       " '4.1 out of 5',\n",
       " '4 out of 5',\n",
       " '4.4 out of 5',\n",
       " '4 out of 5',\n",
       " '3.9 out of 5',\n",
       " '-',\n",
       " '-',\n",
       " '4.1 out of 5',\n",
       " '3.8 out of 5',\n",
       " '-',\n",
       " '4.4 out of 5',\n",
       " '-',\n",
       " '4.5 out of 5',\n",
       " '3.7 out of 5',\n",
       " '3.5 out of 5',\n",
       " '3 out of 5',\n",
       " '3.2 out of 5',\n",
       " '3.9 out of 5',\n",
       " '4.1 out of 5',\n",
       " '3.8 out of 5',\n",
       " '3.5 out of 5',\n",
       " '4.5 out of 5',\n",
       " '3.2 out of 5',\n",
       " '4 out of 5',\n",
       " '3.5 out of 5',\n",
       " '4.2 out of 5',\n",
       " '2.8 out of 5',\n",
       " '3.5 out of 5',\n",
       " '3.5 out of 5',\n",
       " '5 out of 5',\n",
       " '3.8 out of 5',\n",
       " '-',\n",
       " '2.9 out of 5',\n",
       " '3.8 out of 5',\n",
       " '3.4 out of 5',\n",
       " '3.6 out of 5',\n",
       " '3.8 out of 5',\n",
       " '2.8 out of 5',\n",
       " '4.1 out of 5',\n",
       " '2.5 out of 5',\n",
       " '3.8 out of 5',\n",
       " '3.7 out of 5',\n",
       " '3.9 out of 5',\n",
       " '3.2 out of 5',\n",
       " '4.3 out of 5',\n",
       " '3.4 out of 5',\n",
       " '3.9 out of 5',\n",
       " '3.6 out of 5',\n",
       " '3.8 out of 5',\n",
       " '4.2 out of 5',\n",
       " '3.5 out of 5',\n",
       " '3.6 out of 5',\n",
       " '3.7 out of 5',\n",
       " '2 out of 5',\n",
       " '3.4 out of 5',\n",
       " '4 out of 5',\n",
       " '3.4 out of 5',\n",
       " '3.9 out of 5',\n",
       " '3.9 out of 5',\n",
       " '4.4 out of 5',\n",
       " '4 out of 5',\n",
       " '3.7 out of 5',\n",
       " '5 out of 5',\n",
       " '3.8 out of 5',\n",
       " '2 out of 5',\n",
       " '-',\n",
       " '4.2 out of 5',\n",
       " '4.1 out of 5',\n",
       " '4 out of 5',\n",
       " '4.4 out of 5',\n",
       " '4 out of 5',\n",
       " '3.9 out of 5',\n",
       " '-',\n",
       " '-']"
      ]
     },
     "execution_count": 73,
     "metadata": {},
     "output_type": "execute_result"
    }
   ],
   "source": [
    "Rating"
   ]
  },
  {
   "cell_type": "code",
   "execution_count": 74,
   "metadata": {},
   "outputs": [
    {
     "data": {
      "text/plain": [
       "(201, 201, 201, 201, 201)"
      ]
     },
     "execution_count": 74,
     "metadata": {},
     "output_type": "execute_result"
    }
   ],
   "source": [
    "len(Rating),len(Name),len(no_of_ratings),len(Price),len(Brand)"
   ]
  },
  {
   "cell_type": "code",
   "execution_count": null,
   "metadata": {},
   "outputs": [],
   "source": []
  },
  {
   "cell_type": "code",
   "execution_count": 98,
   "metadata": {},
   "outputs": [],
   "source": [
    "#reintiate browser to fetch another item rating\n",
    "#lets first connect with webdriver\n",
    "driver=webdriver.Chrome(r\"C:\\Users\\INPshy\\Downloads\\chromedriver_win32 (11)\\chromedriver.exe\")"
   ]
  },
  {
   "cell_type": "code",
   "execution_count": 99,
   "metadata": {},
   "outputs": [],
   "source": [
    "#URL link\n",
    "url='https://www.amazon.in/'\n",
    "driver.get(url)"
   ]
  },
  {
   "cell_type": "code",
   "execution_count": 100,
   "metadata": {},
   "outputs": [],
   "source": [
    "search=driver.find_element_by_id('twotabsearchtextbox')\n",
    "search.send_keys('Laptop')\n",
    "time.sleep(4)"
   ]
  },
  {
   "cell_type": "code",
   "execution_count": 101,
   "metadata": {},
   "outputs": [],
   "source": [
    "watch=driver.find_element_by_id('nav-search-submit-button')\n",
    "watch.click()\n",
    "time.sleep(5)"
   ]
  },
  {
   "cell_type": "code",
   "execution_count": 107,
   "metadata": {},
   "outputs": [],
   "source": [
    "# scrape all product urls\n",
    "product_urls = []\n",
    "start=0\n",
    "end=10\n",
    "for page in range(start,end):#for loop for scrapping 3 page\n",
    "    url=driver.find_elements_by_xpath('//a[@class=\"a-link-normal a-text-normal\"]')       #scraping urls\n",
    "    for i in url:\n",
    "        product_urls.append(i.get_attribute(\"href\"))                        #appending the urls in product_urls list\n",
    "    nxt_button=driver.find_element_by_xpath(\"//li[@class='a-normal']/a\")     #scraping the list of buttons from the page\n",
    "    nxt_button.get_attribute('href')\n",
    "    time.sleep(2)\n",
    "\n",
    "#Make empty lists\n",
    "Brand_lap= []  \n",
    "Name_lap = []\n",
    "Rating_lap = []\n",
    "no_of_ratings_lap=[]\n",
    "Price_lap=[]\n",
    "\n",
    "for url in product_urls:\n",
    "    driver.get(url)\n",
    "    time.sleep(2)\n",
    "   \n",
    "    # Extracting Brand from xpath\n",
    "    try:\n",
    "        brand = driver.find_element_by_xpath('//div[@class=\"a-expander-content a-expander-section-content a-section-expander-inner\"]/table/tbody/tr[1]/td')      \n",
    "        Brand_lap.append(brand.text) \n",
    "    except NoSuchElementException:\n",
    "        Brand_lap.append('-')    \n",
    "\n",
    "\n",
    "    time.sleep(1)\n",
    "    # Extracting name from id\n",
    "    try:\n",
    "        name = driver.find_element_by_id('productTitle')      \n",
    "        Name_lap.append(name.text)\n",
    "    except NoSuchElementException:\n",
    "        Name_lap.append('-')\n",
    "\n",
    "\n",
    "    time.sleep(1)    \n",
    "    # Extracting Ratings from xpath    \n",
    "    try:\n",
    "        rating = driver.find_element_by_xpath('//span[@class=\"a-size-base a-nowrap\"]//span')  \n",
    "        Rating_lap.append(rating.text)\n",
    "    except NoSuchElementException:\n",
    "        Rating_lap.append('-')\n",
    "          \n",
    "        # Extracting No of Ratings from xpath\n",
    "    try:\n",
    "        no_rating = driver.find_element_by_id('acrCustomerReviewText')  \n",
    "        no_of_ratings_lap.append(no_rating.text)\n",
    "    except NoSuchElementException:\n",
    "        no_of_ratings_lap.append('-')\n",
    "\n",
    "\n",
    "    time.sleep(1)\n",
    "    # Extracting price from xpath    \n",
    "    try:\n",
    "        price = driver.find_element_by_xpath('//td[@class=\"a-span12\"]')  \n",
    "        Price_lap.append(price.text)\n",
    "    except NoSuchElementException:\n",
    "        Price_lap.append('-')"
   ]
  },
  {
   "cell_type": "code",
   "execution_count": 108,
   "metadata": {},
   "outputs": [
    {
     "data": {
      "text/plain": [
       "(220, 220, 220, 220, 220)"
      ]
     },
     "execution_count": 108,
     "metadata": {},
     "output_type": "execute_result"
    }
   ],
   "source": [
    "len(Rating_lap),len(no_of_ratings_lap),len(Brand_lap),len(Price_lap),len(Name_lap)"
   ]
  },
  {
   "cell_type": "code",
   "execution_count": 109,
   "metadata": {},
   "outputs": [],
   "source": [
    "#reintiate browser to fetch another item rating\n",
    "#lets first connect with webdriver\n",
    "driver=webdriver.Chrome(r\"C:\\Users\\INPshy\\Downloads\\chromedriver_win32 (11)\\chromedriver.exe\")"
   ]
  },
  {
   "cell_type": "code",
   "execution_count": 110,
   "metadata": {},
   "outputs": [],
   "source": [
    "#URL link\n",
    "url='https://www.amazon.in/'\n",
    "driver.get(url)"
   ]
  },
  {
   "cell_type": "code",
   "execution_count": 111,
   "metadata": {},
   "outputs": [],
   "source": [
    "search=driver.find_element_by_id('twotabsearchtextbox')\n",
    "search.send_keys('Phone')\n",
    "time.sleep(4)"
   ]
  },
  {
   "cell_type": "code",
   "execution_count": 112,
   "metadata": {},
   "outputs": [],
   "source": [
    "watch=driver.find_element_by_id('nav-search-submit-button')\n",
    "watch.click()\n",
    "time.sleep(5)"
   ]
  },
  {
   "cell_type": "code",
   "execution_count": 116,
   "metadata": {},
   "outputs": [],
   "source": [
    "# scrape all product urls\n",
    "product_urls = []\n",
    "start=0\n",
    "end=10\n",
    "for page in range(start,end):#for loop for scrapping 3 page\n",
    "    url=driver.find_elements_by_xpath('//a[@class=\"a-link-normal a-text-normal\"]')       #scraping urls\n",
    "    for i in url:\n",
    "        product_urls.append(i.get_attribute(\"href\"))                        #appending the urls in product_urls list\n",
    "    nxt_button=driver.find_element_by_xpath(\"//li[@class='a-normal']/a\")     #scraping the list of buttons from the page\n",
    "    nxt_button.get_attribute('href')\n",
    "    time.sleep(2)\n",
    "\n",
    "#Make empty lists\n",
    "Brand_phone= []  \n",
    "Name_phone = []\n",
    "Rating_phone = []\n",
    "no_of_ratings_phone=[]\n",
    "Price_phone=[]\n",
    "for url in product_urls:\n",
    "    driver.get(url)\n",
    "    time.sleep(2)\n",
    "    \n",
    "    # Extracting Brand from xpath\n",
    "    try:\n",
    "        brand = driver.find_element_by_xpath('//div[@class=\"a-expander-content a-expander-section-content a-section-expander-inner\"]/table/tbody/tr[1]/td')      \n",
    "        Brand_phone.append(brand.text) \n",
    "    except NoSuchElementException:\n",
    "        Brand_phone.append('-')    \n",
    "\n",
    "\n",
    "    time.sleep(1)\n",
    "    # Extracting name from id\n",
    "    try:\n",
    "        name = driver.find_element_by_id('productTitle')      \n",
    "        Name_phone.append(name.text)\n",
    "    except NoSuchElementException:\n",
    "        Name_phone.append('-')\n",
    "\n",
    "\n",
    "    time.sleep(1)    \n",
    "    # Extracting Ratings from xpath    \n",
    "    try:\n",
    "        rating = driver.find_element_by_xpath('//span[@class=\"a-size-base a-nowrap\"]//span')  \n",
    "        Rating_phone.append(rating.text)\n",
    "    except NoSuchElementException:\n",
    "        Rating_phone.append('-')\n",
    "    # Extracting No of Ratings from xpath\n",
    "    try:\n",
    "        no_rating = driver.find_element_by_id('acrCustomerReviewText')  \n",
    "        no_of_ratings_phone.append(no_rating.text)\n",
    "    except NoSuchElementException:\n",
    "        no_of_ratings_phone.append('-')\n",
    "\n",
    "\n",
    "    time.sleep(1)\n",
    "    # Extracting price from xpath    \n",
    "    try:\n",
    "        price = driver.find_element_by_xpath('//td[@class=\"a-span12\"]')  \n",
    "        Price_phone.append(price.text)\n",
    "    except NoSuchElementException:\n",
    "        Price_phone.append('-')"
   ]
  },
  {
   "cell_type": "code",
   "execution_count": 117,
   "metadata": {},
   "outputs": [
    {
     "data": {
      "text/plain": [
       "(210, 210, 210, 210, 210)"
      ]
     },
     "execution_count": 117,
     "metadata": {},
     "output_type": "execute_result"
    }
   ],
   "source": [
    "len(Rating_phone),len(Name_phone),len(Brand_phone),len(no_of_ratings_phone),len(Price_phone)"
   ]
  },
  {
   "cell_type": "code",
   "execution_count": 118,
   "metadata": {},
   "outputs": [],
   "source": [
    "#reintiate browser to fetch another item rating\n",
    "#lets first connect with webdriver\n",
    "driver=webdriver.Chrome(r\"C:\\Users\\INPshy\\Downloads\\chromedriver_win32 (11)\\chromedriver.exe\")"
   ]
  },
  {
   "cell_type": "code",
   "execution_count": 119,
   "metadata": {},
   "outputs": [],
   "source": [
    "#URL link\n",
    "url='https://www.amazon.in/'\n",
    "driver.get(url)"
   ]
  },
  {
   "cell_type": "code",
   "execution_count": 120,
   "metadata": {},
   "outputs": [],
   "source": [
    "search=driver.find_element_by_id('twotabsearchtextbox')\n",
    "search.send_keys('sofa')\n",
    "time.sleep(4)"
   ]
  },
  {
   "cell_type": "code",
   "execution_count": 121,
   "metadata": {},
   "outputs": [],
   "source": [
    "watch=driver.find_element_by_id('nav-search-submit-button')\n",
    "watch.click()\n",
    "time.sleep(5)"
   ]
  },
  {
   "cell_type": "code",
   "execution_count": 123,
   "metadata": {},
   "outputs": [],
   "source": [
    "# scrape all product urls\n",
    "product_urls = []\n",
    "start=0\n",
    "end=3\n",
    "for page in range(start,end):#for loop for scrapping 3 page\n",
    "    url=driver.find_elements_by_xpath('//a[@class=\"a-link-normal a-text-normal\"]')       #scraping urls\n",
    "    for i in url:\n",
    "        product_urls.append(i.get_attribute(\"href\"))                        #appending the urls in product_urls list\n",
    "    nxt_button=driver.find_element_by_xpath(\"//li[@class='a-normal']/a\")     #scraping the list of buttons from the page\n",
    "    nxt_button.get_attribute('href')\n",
    "    time.sleep(2)\n",
    "\n",
    "#Make empty lists\n",
    "Brand_sofa= []  \n",
    "Name_sofa = []\n",
    "Rating_sofa = []\n",
    "no_of_ratings_sofa=[]\n",
    "Price_sofa=[]\n",
    "\n",
    "for url in product_urls:\n",
    "    driver.get(url)\n",
    "    time.sleep(2)\n",
    "    \n",
    "    # Extracting Brand from xpath\n",
    "    try:\n",
    "        brand = driver.find_element_by_xpath('//div[@class=\"a-expander-content a-expander-section-content a-section-expander-inner\"]/table/tbody/tr[1]/td')      \n",
    "        Brand_sofa.append(brand.text) \n",
    "    except NoSuchElementException:\n",
    "        Brand_sofa.append('-')    \n",
    "\n",
    "\n",
    "    time.sleep(1)\n",
    "    # Extracting name from id\n",
    "    try:\n",
    "        name = driver.find_element_by_id('productTitle')      \n",
    "        Name_sofa.append(name.text)\n",
    "    except NoSuchElementException:\n",
    "        Name_sofa.append('-')\n",
    "\n",
    "\n",
    "    time.sleep(1)    \n",
    "    # Extracting Ratings from xpath    \n",
    "    try:\n",
    "        rating = driver.find_element_by_xpath('//span[@class=\"a-size-base a-nowrap\"]//span')  \n",
    "        Rating_sofa.append(rating.text)\n",
    "    except NoSuchElementException:\n",
    "        Rating_sofa.append('-')\n",
    "          # Extracting No of Ratings from xpath\n",
    "    try:\n",
    "        no_rating = driver.find_element_by_id('acrCustomerReviewText')  \n",
    "        no_of_ratings_sofa.append(no_rating.text)\n",
    "    except NoSuchElementException:\n",
    "        no_of_ratings_sofa.append('-')\n",
    "\n",
    "\n",
    "    time.sleep(1)\n",
    "    # Extracting price from xpath    \n",
    "    try:\n",
    "        price = driver.find_element_by_xpath('//td[@class=\"a-span12\"]')  \n",
    "        Price_sofa.append(price.text)\n",
    "    except NoSuchElementException:\n",
    "        Price_sofa.append('-')"
   ]
  },
  {
   "cell_type": "code",
   "execution_count": 124,
   "metadata": {},
   "outputs": [
    {
     "data": {
      "text/plain": [
       "(180, 180, 180, 180, 180)"
      ]
     },
     "execution_count": 124,
     "metadata": {},
     "output_type": "execute_result"
    }
   ],
   "source": [
    "len(Brand_sofa),len(Name_sofa),len(Rating_sofa),len(no_of_ratings_sofa),len(Price_sofa)"
   ]
  },
  {
   "cell_type": "code",
   "execution_count": 125,
   "metadata": {},
   "outputs": [],
   "source": [
    "#reintiate browser to fetch another item rating\n",
    "#lets first connect with webdriver\n",
    "driver=webdriver.Chrome(r\"C:\\Users\\INPshy\\Downloads\\chromedriver_win32 (11)\\chromedriver.exe\")"
   ]
  },
  {
   "cell_type": "code",
   "execution_count": 126,
   "metadata": {},
   "outputs": [],
   "source": [
    "#URL link\n",
    "url='https://www.amazon.in/'\n",
    "driver.get(url)"
   ]
  },
  {
   "cell_type": "code",
   "execution_count": 127,
   "metadata": {},
   "outputs": [],
   "source": [
    "search=driver.find_element_by_id('twotabsearchtextbox')\n",
    "search.send_keys('grinder mixer')\n",
    "time.sleep(4)"
   ]
  },
  {
   "cell_type": "code",
   "execution_count": 128,
   "metadata": {},
   "outputs": [],
   "source": [
    "watch=driver.find_element_by_id('nav-search-submit-button')\n",
    "watch.click()\n",
    "time.sleep(5)"
   ]
  },
  {
   "cell_type": "code",
   "execution_count": 129,
   "metadata": {},
   "outputs": [],
   "source": [
    "# scrape all product urls\n",
    "product_urls = []\n",
    "start=0\n",
    "end=3\n",
    "for page in range(start,end):#for loop for scrapping 3 page\n",
    "    url=driver.find_elements_by_xpath('//a[@class=\"a-link-normal a-text-normal\"]')       #scraping urls\n",
    "    for i in url:\n",
    "        product_urls.append(i.get_attribute(\"href\"))                        #appending the urls in product_urls list\n",
    "    nxt_button=driver.find_element_by_xpath(\"//li[@class='a-normal']/a\")     #scraping the list of buttons from the page\n",
    "    nxt_button.get_attribute('href')\n",
    "    time.sleep(2)\n",
    "\n",
    "#Make empty lists\n",
    "Brand_mix= []  \n",
    "Name_mix = []\n",
    "Rating_mix = []\n",
    "no_of_ratings_mix=[]\n",
    "Price_mix=[]\n",
    "for url in product_urls:\n",
    "    driver.get(url)\n",
    "    time.sleep(2)\n",
    "    \n",
    "    # Extracting Brand from xpath\n",
    "    try:\n",
    "        brand = driver.find_element_by_xpath('//div[@class=\"a-expander-content a-expander-section-content a-section-expander-inner\"]/table/tbody/tr[1]/td')      \n",
    "        Brand_mix.append(brand.text) \n",
    "    except NoSuchElementException:\n",
    "        Brand_mix.append('-')    \n",
    "\n",
    "\n",
    "    time.sleep(1)\n",
    "    # Extracting name from id\n",
    "    try:\n",
    "        name = driver.find_element_by_id('productTitle')      \n",
    "        Name_mix.append(name.text)\n",
    "    except NoSuchElementException:\n",
    "        Name_mix.append('-')\n",
    "\n",
    "\n",
    "    time.sleep(1)    \n",
    "    # Extracting Ratings from xpath    \n",
    "    try:\n",
    "        rating = driver.find_element_by_xpath('//span[@class=\"a-size-base a-nowrap\"]//span')  \n",
    "        Rating_mix.append(rating.text)\n",
    "    except NoSuchElementException:\n",
    "        Rating_mix.append('-')\n",
    "    \n",
    "           # Extracting No of Ratings from xpath\n",
    "    try:\n",
    "        no_rating = driver.find_element_by_id('acrCustomerReviewText')  \n",
    "        no_of_ratings_mix.append(no_rating.text)\n",
    "    except NoSuchElementException:\n",
    "        no_of_ratings_mix.append('-')\n",
    "\n",
    "\n",
    "    time.sleep(1)\n",
    "    # Extracting price from xpath    \n",
    "    try:\n",
    "        price = driver.find_element_by_xpath('//td[@class=\"a-span12\"]')  \n",
    "        Price_mix.append(price.text)\n",
    "    except NoSuchElementException:\n",
    "        Price_mix.append('-')"
   ]
  },
  {
   "cell_type": "code",
   "execution_count": 130,
   "metadata": {},
   "outputs": [
    {
     "data": {
      "text/plain": [
       "(84, 84, 84, 84, 84)"
      ]
     },
     "execution_count": 130,
     "metadata": {},
     "output_type": "execute_result"
    }
   ],
   "source": [
    "len(Brand_mix),len(Name_mix),len(Rating_mix),len(no_of_ratings_mix),len(Price_mix)"
   ]
  },
  {
   "cell_type": "code",
   "execution_count": 131,
   "metadata": {},
   "outputs": [],
   "source": [
    "#reintiate browser to fetch another item rating\n",
    "#lets first connect with webdriver\n",
    "driver=webdriver.Chrome(r\"C:\\Users\\INPshy\\Downloads\\chromedriver_win32 (11)\\chromedriver.exe\")"
   ]
  },
  {
   "cell_type": "code",
   "execution_count": 132,
   "metadata": {},
   "outputs": [],
   "source": [
    "#URL link\n",
    "url='https://www.amazon.in/'\n",
    "driver.get(url)"
   ]
  },
  {
   "cell_type": "code",
   "execution_count": 133,
   "metadata": {},
   "outputs": [],
   "source": [
    "search=driver.find_element_by_id('twotabsearchtextbox')\n",
    "search.send_keys('Aircondition')\n",
    "time.sleep(4)"
   ]
  },
  {
   "cell_type": "code",
   "execution_count": 134,
   "metadata": {},
   "outputs": [],
   "source": [
    "watch=driver.find_element_by_id('nav-search-submit-button')\n",
    "watch.click()\n",
    "time.sleep(5)"
   ]
  },
  {
   "cell_type": "code",
   "execution_count": 136,
   "metadata": {},
   "outputs": [],
   "source": [
    "# scrape all product urls\n",
    "product_urls = []\n",
    "start=0\n",
    "end=6\n",
    "for page in range(start,end):#for loop for scrapping 3 page\n",
    "    url=driver.find_elements_by_xpath('//a[@class=\"a-link-normal a-text-normal\"]')       #scraping urls\n",
    "    for i in url:\n",
    "        product_urls.append(i.get_attribute(\"href\"))                        #appending the urls in product_urls list\n",
    "    nxt_button=driver.find_element_by_xpath(\"//li[@class='a-normal']/a\")     #scraping the list of buttons from the page\n",
    "    nxt_button.get_attribute('href')\n",
    "    time.sleep(2)\n",
    "\n",
    "#Make empty lists\n",
    "Brand_ac= []  \n",
    "Name_ac = []\n",
    "Rating_ac = []\n",
    "no_of_ratings_ac=[]\n",
    "Price_ac=[]\n",
    "for url in product_urls:\n",
    "    driver.get(url)\n",
    "    time.sleep(2)\n",
    "    \n",
    "    # Extracting Brand from xpath\n",
    "    try:\n",
    "        brand = driver.find_element_by_xpath('//div[@class=\"a-expander-content a-expander-section-content a-section-expander-inner\"]/table/tbody/tr[1]/td')      \n",
    "        Brand_ac.append(brand.text) \n",
    "    except NoSuchElementException:\n",
    "        Brand_ac.append('-')    \n",
    "\n",
    "\n",
    "    time.sleep(1)\n",
    "    # Extracting name from id\n",
    "    try:\n",
    "        name = driver.find_element_by_id('productTitle')      \n",
    "        Name_ac.append(name.text)\n",
    "    except NoSuchElementException:\n",
    "        Name_ac.append('-')\n",
    "\n",
    "\n",
    "    time.sleep(1)    \n",
    "    # Extracting Ratings from xpath    \n",
    "    try:\n",
    "        rating = driver.find_element_by_xpath('//span[@class=\"a-size-base a-nowrap\"]//span')  \n",
    "        Rating_ac.append(rating.text)\n",
    "    except NoSuchElementException:\n",
    "        Rating_ac.append('-')\n",
    "    # Extracting No of Ratings from xpath\n",
    "    try:\n",
    "        no_rating = driver.find_element_by_id('acrCustomerReviewText')  \n",
    "        no_of_ratings_ac.append(no_rating.text)\n",
    "    except NoSuchElementException:\n",
    "        no_of_ratings_ac.append('-')\n",
    "\n",
    "\n",
    "    time.sleep(1)\n",
    "    # Extracting price from xpath    \n",
    "    try:\n",
    "        price = driver.find_element_by_xpath('//td[@class=\"a-span12\"]')  \n",
    "        Price_ac.append(price.text)\n",
    "    except NoSuchElementException:\n",
    "        Price_ac.append('-')"
   ]
  },
  {
   "cell_type": "code",
   "execution_count": 137,
   "metadata": {},
   "outputs": [
    {
     "data": {
      "text/plain": [
       "(132, 132, 132, 132, 132)"
      ]
     },
     "execution_count": 137,
     "metadata": {},
     "output_type": "execute_result"
    }
   ],
   "source": [
    "len(Brand_ac),len(Name_ac),len(Rating_ac),len(no_of_ratings_ac),len(Price_ac)"
   ]
  },
  {
   "cell_type": "code",
   "execution_count": 138,
   "metadata": {},
   "outputs": [],
   "source": [
    "#reintiate browser to fetch another item rating\n",
    "#lets first connect with webdriver\n",
    "driver=webdriver.Chrome(r\"C:\\Users\\INPshy\\Downloads\\chromedriver_win32 (11)\\chromedriver.exe\")"
   ]
  },
  {
   "cell_type": "code",
   "execution_count": 139,
   "metadata": {},
   "outputs": [],
   "source": [
    "#URL link\n",
    "url='https://www.amazon.in/'\n",
    "driver.get(url)"
   ]
  },
  {
   "cell_type": "code",
   "execution_count": 140,
   "metadata": {},
   "outputs": [],
   "source": [
    "search=driver.find_element_by_id('twotabsearchtextbox')\n",
    "search.send_keys('Fridge')\n",
    "time.sleep(4)"
   ]
  },
  {
   "cell_type": "code",
   "execution_count": 141,
   "metadata": {},
   "outputs": [],
   "source": [
    "watch=driver.find_element_by_id('nav-search-submit-button')\n",
    "watch.click()\n",
    "time.sleep(5)"
   ]
  },
  {
   "cell_type": "code",
   "execution_count": 142,
   "metadata": {},
   "outputs": [],
   "source": [
    "# scrape all product urls\n",
    "product_urls = []\n",
    "start=0\n",
    "end=7\n",
    "for page in range(start,end):#for loop for scrapping 3 page\n",
    "    url=driver.find_elements_by_xpath('//a[@class=\"a-link-normal a-text-normal\"]')       #scraping urls\n",
    "    for i in url:\n",
    "        product_urls.append(i.get_attribute(\"href\"))                        #appending the urls in product_urls list\n",
    "    nxt_button=driver.find_element_by_xpath(\"//li[@class='a-normal']/a[1]\")     #scraping the list of buttons from the page\n",
    "    nxt_button.get_attribute('href')\n",
    "    time.sleep(2)\n",
    "\n",
    "#Make empty lists\n",
    "Brand_fridge= []  \n",
    "Name_fridge = []\n",
    "Rating_fridge = []\n",
    "no_of_ratings_fridge =[]\n",
    "Price_fridge =[]\n",
    "for url in product_urls:\n",
    "    driver.get(url)\n",
    "    time.sleep(2)\n",
    "    \n",
    "    # Extracting Brand from xpath\n",
    "    try:\n",
    "        brand = driver.find_element_by_xpath('//div[@class=\"a-expander-content a-expander-section-content a-section-expander-inner\"]/table/tbody/tr[1]/td')      \n",
    "        Brand_fridge.append(brand.text) \n",
    "    except NoSuchElementException:\n",
    "        Brand_fridge.append('-')    \n",
    "\n",
    "\n",
    "    time.sleep(1)\n",
    "    # Extracting name from id\n",
    "    try:\n",
    "        name = driver.find_element_by_id('productTitle')      \n",
    "        Name_fridge.append(name.text)\n",
    "    except NoSuchElementException:\n",
    "        Name_fridge.append('-')\n",
    "\n",
    "\n",
    "    time.sleep(1)    \n",
    "    # Extracting Ratings from xpath    \n",
    "    try:\n",
    "        rating = driver.find_element_by_xpath('//span[@class=\"a-size-base a-nowrap\"]//span')  \n",
    "        Rating_fridge.append(rating.text)\n",
    "    except NoSuchElementException:\n",
    "        Rating_fridge.append('-')\n",
    "     # Extracting No of Ratings from xpath\n",
    "    try:\n",
    "        no_rating = driver.find_element_by_id('acrCustomerReviewText')  \n",
    "        no_of_ratings_fridge.append(no_rating.text)\n",
    "    except NoSuchElementException:\n",
    "        no_of_ratings_fridge.append('-')\n",
    "\n",
    "\n",
    "    time.sleep(1)\n",
    "    # Extracting price from xpath    \n",
    "    try:\n",
    "        price = driver.find_element_by_xpath('//td[@class=\"a-span12\"]')  \n",
    "        Price_fridge.append(price.text)\n",
    "    except NoSuchElementException:\n",
    "        Price_fridge.append('-')"
   ]
  },
  {
   "cell_type": "code",
   "execution_count": 143,
   "metadata": {},
   "outputs": [],
   "source": [
    "#concate Brand\n",
    "BRAND=Brand+Brand_ac+Brand_lap+Brand_mix+Brand_phone+Brand_sofa+Brand_fridge"
   ]
  },
  {
   "cell_type": "code",
   "execution_count": 144,
   "metadata": {},
   "outputs": [
    {
     "data": {
      "text/plain": [
       "1195"
      ]
     },
     "execution_count": 144,
     "metadata": {},
     "output_type": "execute_result"
    }
   ],
   "source": [
    "len(BRAND)"
   ]
  },
  {
   "cell_type": "code",
   "execution_count": 145,
   "metadata": {},
   "outputs": [],
   "source": [
    "#Concatinate Name\n",
    "NAME=Name+Name_ac+Name_fridge+Name_lap+Name_mix+Name_phone+Name_sofa"
   ]
  },
  {
   "cell_type": "code",
   "execution_count": 146,
   "metadata": {},
   "outputs": [
    {
     "data": {
      "text/plain": [
       "1195"
      ]
     },
     "execution_count": 146,
     "metadata": {},
     "output_type": "execute_result"
    }
   ],
   "source": [
    "len(NAME)"
   ]
  },
  {
   "cell_type": "code",
   "execution_count": 148,
   "metadata": {},
   "outputs": [],
   "source": [
    "#concatinate Rating\n",
    "RATING=Rating+Rating_ac+Rating_fridge+Rating_lap+Rating_mix+Rating_phone+Rating_sofa"
   ]
  },
  {
   "cell_type": "code",
   "execution_count": 149,
   "metadata": {},
   "outputs": [
    {
     "data": {
      "text/plain": [
       "1195"
      ]
     },
     "execution_count": 149,
     "metadata": {},
     "output_type": "execute_result"
    }
   ],
   "source": [
    "len(RATING)"
   ]
  },
  {
   "cell_type": "code",
   "execution_count": 150,
   "metadata": {},
   "outputs": [],
   "source": [
    "#concatinate no_of_ratings\n",
    "No_of_Rating=no_of_ratings+no_of_ratings_ac+no_of_ratings_fridge+no_of_ratings_lap+no_of_ratings_mix+no_of_ratings_phone+no_of_ratings_sofa"
   ]
  },
  {
   "cell_type": "code",
   "execution_count": 151,
   "metadata": {},
   "outputs": [
    {
     "data": {
      "text/plain": [
       "1195"
      ]
     },
     "execution_count": 151,
     "metadata": {},
     "output_type": "execute_result"
    }
   ],
   "source": [
    "len(No_of_Rating)"
   ]
  },
  {
   "cell_type": "code",
   "execution_count": 152,
   "metadata": {},
   "outputs": [],
   "source": [
    "#concatinate Price\n",
    "PRICE=Price+Price_ac+Price_fridge+Price_lap+Price_mix+Price_phone+Price_sofa"
   ]
  },
  {
   "cell_type": "code",
   "execution_count": 153,
   "metadata": {},
   "outputs": [
    {
     "data": {
      "text/plain": [
       "1195"
      ]
     },
     "execution_count": 153,
     "metadata": {},
     "output_type": "execute_result"
    }
   ],
   "source": [
    "len(PRICE)"
   ]
  },
  {
   "cell_type": "code",
   "execution_count": 154,
   "metadata": {},
   "outputs": [
    {
     "data": {
      "text/html": [
       "<div>\n",
       "<style scoped>\n",
       "    .dataframe tbody tr th:only-of-type {\n",
       "        vertical-align: middle;\n",
       "    }\n",
       "\n",
       "    .dataframe tbody tr th {\n",
       "        vertical-align: top;\n",
       "    }\n",
       "\n",
       "    .dataframe thead th {\n",
       "        text-align: right;\n",
       "    }\n",
       "</style>\n",
       "<table border=\"1\" class=\"dataframe\">\n",
       "  <thead>\n",
       "    <tr style=\"text-align: right;\">\n",
       "      <th></th>\n",
       "      <th>Name</th>\n",
       "      <th>Rating</th>\n",
       "      <th>Brand</th>\n",
       "      <th>NO_OF_RATINGS</th>\n",
       "      <th>PRICE</th>\n",
       "    </tr>\n",
       "  </thead>\n",
       "  <tbody>\n",
       "    <tr>\n",
       "      <th>0</th>\n",
       "      <td>NIBOSI Chronograph Men's Watch ( Black Dial &amp; ...</td>\n",
       "      <td>4.1 out of 5</td>\n",
       "      <td>-</td>\n",
       "      <td>246 ratings</td>\n",
       "      <td>₹2,290.00</td>\n",
       "    </tr>\n",
       "    <tr>\n",
       "      <th>1</th>\n",
       "      <td>TIMEWEAR Digital Men's Watch</td>\n",
       "      <td>3.8 out of 5</td>\n",
       "      <td>-</td>\n",
       "      <td>12,814 ratings</td>\n",
       "      <td>₹739.00</td>\n",
       "    </tr>\n",
       "    <tr>\n",
       "      <th>2</th>\n",
       "      <td>RAW STAR Day and Date Functioning Colored Dial...</td>\n",
       "      <td>-</td>\n",
       "      <td>-</td>\n",
       "      <td>-</td>\n",
       "      <td>₹879.00</td>\n",
       "    </tr>\n",
       "    <tr>\n",
       "      <th>3</th>\n",
       "      <td>Victorinox Chrono Classic Analog Black Dial Me...</td>\n",
       "      <td>4.4 out of 5</td>\n",
       "      <td>-</td>\n",
       "      <td>27 ratings</td>\n",
       "      <td>₹38,760.00</td>\n",
       "    </tr>\n",
       "    <tr>\n",
       "      <th>4</th>\n",
       "      <td>Gionee STYLFIT GSW6 Smartwatch with Bluetooth ...</td>\n",
       "      <td>-</td>\n",
       "      <td>GIONEE</td>\n",
       "      <td>-</td>\n",
       "      <td>₹2,999.00</td>\n",
       "    </tr>\n",
       "    <tr>\n",
       "      <th>...</th>\n",
       "      <td>...</td>\n",
       "      <td>...</td>\n",
       "      <td>...</td>\n",
       "      <td>...</td>\n",
       "      <td>...</td>\n",
       "    </tr>\n",
       "    <tr>\n",
       "      <th>1190</th>\n",
       "      <td>RJ HOME Sofa Cums Bed Furniture (3x6) One Seat...</td>\n",
       "      <td>4 out of 5</td>\n",
       "      <td>Godrej</td>\n",
       "      <td>1 rating</td>\n",
       "      <td>₹4,999.00</td>\n",
       "    </tr>\n",
       "    <tr>\n",
       "      <th>1191</th>\n",
       "      <td>Trevi Bali 2 Seater Fabric Sofa - Checked Yellow</td>\n",
       "      <td>-</td>\n",
       "      <td>Godrej</td>\n",
       "      <td>-</td>\n",
       "      <td>-</td>\n",
       "    </tr>\n",
       "    <tr>\n",
       "      <th>1192</th>\n",
       "      <td>The Couch Cell Recliner in Brown</td>\n",
       "      <td>4.1 out of 5</td>\n",
       "      <td>CROMA</td>\n",
       "      <td>151 ratings</td>\n",
       "      <td>₹13,999.00</td>\n",
       "    </tr>\n",
       "    <tr>\n",
       "      <th>1193</th>\n",
       "      <td>Wooden Furniture City Leatherate Five Seater C...</td>\n",
       "      <td>-</td>\n",
       "      <td>Samsung</td>\n",
       "      <td>-</td>\n",
       "      <td>₹28,499.00</td>\n",
       "    </tr>\n",
       "    <tr>\n",
       "      <th>1194</th>\n",
       "      <td>Trevi Bali 3 Seater Fabric Sofa - Checked Yellow</td>\n",
       "      <td>-</td>\n",
       "      <td>Samsung</td>\n",
       "      <td>-</td>\n",
       "      <td>-</td>\n",
       "    </tr>\n",
       "  </tbody>\n",
       "</table>\n",
       "<p>1195 rows × 5 columns</p>\n",
       "</div>"
      ],
      "text/plain": [
       "                                                   Name        Rating  \\\n",
       "0     NIBOSI Chronograph Men's Watch ( Black Dial & ...  4.1 out of 5   \n",
       "1                          TIMEWEAR Digital Men's Watch  3.8 out of 5   \n",
       "2     RAW STAR Day and Date Functioning Colored Dial...             -   \n",
       "3     Victorinox Chrono Classic Analog Black Dial Me...  4.4 out of 5   \n",
       "4     Gionee STYLFIT GSW6 Smartwatch with Bluetooth ...             -   \n",
       "...                                                 ...           ...   \n",
       "1190  RJ HOME Sofa Cums Bed Furniture (3x6) One Seat...    4 out of 5   \n",
       "1191   Trevi Bali 2 Seater Fabric Sofa - Checked Yellow             -   \n",
       "1192                   The Couch Cell Recliner in Brown  4.1 out of 5   \n",
       "1193  Wooden Furniture City Leatherate Five Seater C...             -   \n",
       "1194   Trevi Bali 3 Seater Fabric Sofa - Checked Yellow             -   \n",
       "\n",
       "        Brand   NO_OF_RATINGS       PRICE  \n",
       "0           -     246 ratings   ₹2,290.00  \n",
       "1           -  12,814 ratings     ₹739.00  \n",
       "2           -               -     ₹879.00  \n",
       "3           -      27 ratings  ₹38,760.00  \n",
       "4      GIONEE               -   ₹2,999.00  \n",
       "...       ...             ...         ...  \n",
       "1190   Godrej        1 rating   ₹4,999.00  \n",
       "1191   Godrej               -           -  \n",
       "1192    CROMA     151 ratings  ₹13,999.00  \n",
       "1193  Samsung               -  ₹28,499.00  \n",
       "1194  Samsung               -           -  \n",
       "\n",
       "[1195 rows x 5 columns]"
      ]
     },
     "execution_count": 154,
     "metadata": {},
     "output_type": "execute_result"
    }
   ],
   "source": [
    "Product_rating=pd.DataFrame({})\n",
    "Product_rating['Name']=NAME\n",
    "Product_rating['Rating']=RATING\n",
    "Product_rating['Brand']=BRAND\n",
    "Product_rating['NO_OF_RATINGS']=No_of_Rating\n",
    "Product_rating['PRICE']=PRICE\n",
    "Product_rating"
   ]
  },
  {
   "cell_type": "code",
   "execution_count": 155,
   "metadata": {},
   "outputs": [],
   "source": [
    "#saving file into folder as csv file\n",
    "Product_rating.to_csv(r\"C:\\Users\\INPshy\\Desktop\\DATA Science\\Product_rating.csv\")"
   ]
  },
  {
   "cell_type": "code",
   "execution_count": null,
   "metadata": {},
   "outputs": [],
   "source": []
  }
 ],
 "metadata": {
  "kernelspec": {
   "display_name": "Python 3",
   "language": "python",
   "name": "python3"
  },
  "language_info": {
   "codemirror_mode": {
    "name": "ipython",
    "version": 3
   },
   "file_extension": ".py",
   "mimetype": "text/x-python",
   "name": "python",
   "nbconvert_exporter": "python",
   "pygments_lexer": "ipython3",
   "version": "3.8.5"
  }
 },
 "nbformat": 4,
 "nbformat_minor": 4
}
