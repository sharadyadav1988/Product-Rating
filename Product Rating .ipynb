{
 "cells": [
  {
   "cell_type": "code",
   "execution_count": 2,
   "metadata": {},
   "outputs": [],
   "source": [
    "# lets start with importing necessary library\n",
    "import numpy as np \n",
    "import pandas as pd\n",
    "from sklearn.preprocessing import StandardScaler\n",
    "from sklearn.linear_model import LinearRegression\n",
    "from sklearn.model_selection import train_test_split\n",
    "\n",
    "import statsmodels as sm\n",
    "from sklearn.metrics import r2_score,mean_absolute_error,mean_squared_error\n",
    "from sklearn.decomposition import PCA\n",
    "import matplotlib.pyplot as plt    \n",
    "import seaborn as sns\n",
    "import pickle\n",
    "import re\n",
    "import warnings\n",
    "warnings.filterwarnings(\"ignore\")"
   ]
  },
  {
   "cell_type": "code",
   "execution_count": 3,
   "metadata": {},
   "outputs": [
    {
     "data": {
      "text/html": [
       "<div>\n",
       "<style scoped>\n",
       "    .dataframe tbody tr th:only-of-type {\n",
       "        vertical-align: middle;\n",
       "    }\n",
       "\n",
       "    .dataframe tbody tr th {\n",
       "        vertical-align: top;\n",
       "    }\n",
       "\n",
       "    .dataframe thead th {\n",
       "        text-align: right;\n",
       "    }\n",
       "</style>\n",
       "<table border=\"1\" class=\"dataframe\">\n",
       "  <thead>\n",
       "    <tr style=\"text-align: right;\">\n",
       "      <th></th>\n",
       "      <th>Unnamed: 0</th>\n",
       "      <th>Name</th>\n",
       "      <th>Rating</th>\n",
       "      <th>Brand</th>\n",
       "      <th>NO_OF_RATINGS</th>\n",
       "      <th>PRICE</th>\n",
       "    </tr>\n",
       "  </thead>\n",
       "  <tbody>\n",
       "    <tr>\n",
       "      <th>0</th>\n",
       "      <td>0</td>\n",
       "      <td>NIBOSI Chronograph Men's Watch ( Black Dial &amp; ...</td>\n",
       "      <td>4.1 out of 5</td>\n",
       "      <td>-</td>\n",
       "      <td>246 ratings</td>\n",
       "      <td>₹2,290.00</td>\n",
       "    </tr>\n",
       "    <tr>\n",
       "      <th>1</th>\n",
       "      <td>1</td>\n",
       "      <td>TIMEWEAR Digital Men's Watch</td>\n",
       "      <td>3.8 out of 5</td>\n",
       "      <td>-</td>\n",
       "      <td>12,814 ratings</td>\n",
       "      <td>₹739.00</td>\n",
       "    </tr>\n",
       "    <tr>\n",
       "      <th>2</th>\n",
       "      <td>2</td>\n",
       "      <td>RAW STAR Day and Date Functioning Colored Dial...</td>\n",
       "      <td>-</td>\n",
       "      <td>-</td>\n",
       "      <td>-</td>\n",
       "      <td>₹879.00</td>\n",
       "    </tr>\n",
       "    <tr>\n",
       "      <th>3</th>\n",
       "      <td>3</td>\n",
       "      <td>Victorinox Chrono Classic Analog Black Dial Me...</td>\n",
       "      <td>4.4 out of 5</td>\n",
       "      <td>-</td>\n",
       "      <td>27 ratings</td>\n",
       "      <td>₹38,760.00</td>\n",
       "    </tr>\n",
       "    <tr>\n",
       "      <th>4</th>\n",
       "      <td>4</td>\n",
       "      <td>Gionee STYLFIT GSW6 Smartwatch with Bluetooth ...</td>\n",
       "      <td>-</td>\n",
       "      <td>GIONEE</td>\n",
       "      <td>-</td>\n",
       "      <td>₹2,999.00</td>\n",
       "    </tr>\n",
       "  </tbody>\n",
       "</table>\n",
       "</div>"
      ],
      "text/plain": [
       "   Unnamed: 0                                               Name  \\\n",
       "0           0  NIBOSI Chronograph Men's Watch ( Black Dial & ...   \n",
       "1           1                       TIMEWEAR Digital Men's Watch   \n",
       "2           2  RAW STAR Day and Date Functioning Colored Dial...   \n",
       "3           3  Victorinox Chrono Classic Analog Black Dial Me...   \n",
       "4           4  Gionee STYLFIT GSW6 Smartwatch with Bluetooth ...   \n",
       "\n",
       "         Rating   Brand   NO_OF_RATINGS       PRICE  \n",
       "0  4.1 out of 5       -     246 ratings   ₹2,290.00  \n",
       "1  3.8 out of 5       -  12,814 ratings     ₹739.00  \n",
       "2             -       -               -     ₹879.00  \n",
       "3  4.4 out of 5       -      27 ratings  ₹38,760.00  \n",
       "4             -  GIONEE               -   ₹2,999.00  "
      ]
     },
     "execution_count": 3,
     "metadata": {},
     "output_type": "execute_result"
    }
   ],
   "source": [
    "data=pd.read_csv(r\"C:\\Users\\INPshy\\Desktop\\DATA Science\\Product_rating.csv\")\n",
    "data.head()"
   ]
  },
  {
   "cell_type": "code",
   "execution_count": 4,
   "metadata": {},
   "outputs": [],
   "source": [
    "df=data.Rating"
   ]
  },
  {
   "cell_type": "code",
   "execution_count": 5,
   "metadata": {},
   "outputs": [
    {
     "name": "stdout",
     "output_type": "stream",
     "text": [
      "['4', '3', '-', '4', '-', '4', '3', '3', '3', '3', '3', '4', '3', '3', '4', '3', '4', '3', '4', '2', '3', '3', '5', '3', '-', '2', '3', '3', '3', '3', '2', '4', '2', '3', '3', '3', '3', '4', '3', '3', '3', '3', '4', '3', '3', '3', '2', '3', '4', '3', '3', '3', '4', '4', '3', '5', '3', '2', '-', '4', '4', '4', '4', '4', '3', '-', '-', '3', '3', '3', '3', '4', '3', '3', '4', '4', '3', '3', '3', '3', '3', '3', '3', '3', '3', '4', '5', '5', '3', '-', '3', '4', '4', '4', '3', '-', '3', '3', '-', '5', '4', '3', '4', '3', '4', '4', '2', '4', '3', '3', '2', '4', '3', '3', '3', '4', '4', '3', '2', '3', '4', '3', '3', '3', '3', '3', '3', '4', '4', '4', '4', '3', '-', '-', '4', '3', '-', '4', '-', '4', '3', '3', '3', '3', '3', '4', '3', '3', '4', '3', '4', '3', '4', '2', '3', '3', '5', '3', '-', '2', '3', '3', '3', '3', '2', '4', '2', '3', '3', '3', '3', '4', '3', '3', '3', '3', '4', '3', '3', '3', '2', '3', '4', '3', '3', '3', '4', '4', '3', '5', '3', '2', '-', '4', '4', '4', '4', '4', '3', '-', '-', '4', '3', '4', '4', '3', '4', '3', '4', '4', '4', '3', '3', '4', '4', '4', '4', '4', '4', '4', '4', '3', '3', '4', '3', '4', '4', '3', '4', '3', '4', '4', '4', '3', '3', '4', '4', '4', '4', '4', '4', '4', '4', '3', '3', '4', '3', '4', '4', '3', '4', '3', '4', '4', '4', '3', '3', '4', '4', '4', '4', '4', '4', '4', '4', '3', '3', '4', '3', '4', '4', '3', '4', '3', '4', '4', '4', '3', '3', '4', '4', '4', '4', '4', '4', '4', '4', '3', '3', '4', '3', '4', '4', '3', '4', '3', '4', '4', '4', '3', '3', '4', '4', '4', '4', '4', '4', '4', '4', '3', '3', '4', '3', '4', '4', '3', '4', '3', '4', '4', '4', '3', '3', '4', '4', '4', '4', '4', '4', '4', '4', '3', '3', '4', '3', '4', '4', '4', '4', '4', '4', '4', '4', '4', '4', '4', '4', '4', '4', '4', '4', '4', '4', '4', '4', '4', '4', '4', '3', '4', '4', '4', '4', '4', '4', '4', '4', '4', '4', '4', '4', '4', '4', '4', '4', '4', '4', '4', '4', '4', '4', '4', '3', '4', '4', '4', '4', '4', '4', '4', '4', '4', '4', '4', '4', '4', '4', '4', '4', '4', '4', '4', '4', '4', '4', '4', '3', '4', '4', '4', '4', '4', '4', '4', '4', '4', '4', '4', '4', '4', '4', '4', '4', '4', '4', '4', '4', '4', '4', '4', '3', '4', '4', '4', '4', '4', '4', '4', '4', '4', '4', '4', '4', '4', '4', '4', '4', '4', '4', '4', '4', '4', '4', '4', '3', '4', '4', '4', '4', '4', '4', '4', '4', '4', '4', '4', '4', '4', '4', '4', '4', '4', '4', '4', '4', '4', '4', '4', '3', '4', '4', '4', '4', '4', '4', '4', '4', '4', '4', '4', '4', '4', '4', '4', '4', '4', '4', '4', '4', '4', '4', '3', '4', '3', '4', '4', '4', '3', '3', '-', '4', '4', '3', '4', '3', '3', '3', '4', '4', '4', '1', '4', '4', '3', '4', '3', '4', '4', '4', '3', '3', '-', '4', '4', '3', '4', '3', '3', '3', '4', '4', '4', '1', '4', '4', '3', '4', '3', '4', '4', '4', '3', '3', '-', '4', '4', '3', '4', '3', '3', '3', '4', '4', '4', '1', '4', '4', '3', '4', '3', '4', '4', '4', '3', '3', '-', '4', '4', '3', '4', '3', '3', '3', '4', '4', '4', '1', '4', '4', '3', '4', '3', '4', '4', '4', '3', '3', '-', '4', '4', '3', '4', '3', '3', '3', '4', '4', '4', '1', '4', '4', '3', '4', '3', '4', '4', '4', '3', '3', '-', '4', '4', '3', '4', '3', '3', '3', '4', '4', '4', '1', '4', '4', '3', '4', '3', '4', '4', '4', '3', '3', '-', '4', '4', '3', '4', '3', '3', '3', '4', '4', '4', '1', '4', '4', '3', '4', '3', '4', '4', '4', '3', '3', '-', '4', '4', '3', '4', '3', '3', '3', '4', '4', '4', '1', '4', '4', '3', '4', '3', '4', '4', '4', '3', '3', '-', '4', '4', '3', '4', '3', '3', '3', '4', '4', '4', '1', '4', '4', '3', '4', '3', '4', '4', '4', '3', '3', '-', '4', '4', '3', '4', '3', '3', '3', '4', '4', '4', '1', '4', '4', '4', '4', '4', '3', '4', '4', '4', '4', '4', '3', '3', '3', '4', '3', '4', '3', '3', '3', '3', '3', '4', '4', '4', '3', '3', '3', '4', '3', '4', '4', '4', '3', '4', '4', '4', '4', '4', '3', '3', '3', '4', '3', '4', '3', '3', '3', '3', '3', '4', '4', '4', '3', '3', '3', '4', '3', '4', '4', '4', '3', '4', '4', '4', '4', '4', '3', '3', '3', '4', '3', '4', '3', '3', '3', '3', '3', '4', '4', '4', '3', '3', '3', '4', '3', '-', '4', '4', '4', '4', '4', '4', '4', '4', '4', '-', '4', '4', '4', '3', '4', '4', '4', '3', '4', '-', '-', '4', '4', '4', '4', '4', '4', '4', '4', '4', '-', '4', '4', '4', '3', '4', '4', '4', '3', '4', '-', '-', '4', '4', '4', '4', '4', '4', '4', '4', '4', '-', '4', '4', '4', '3', '4', '4', '4', '3', '4', '-', '-', '4', '4', '4', '4', '4', '4', '4', '4', '4', '-', '4', '4', '4', '3', '4', '4', '4', '3', '4', '-', '-', '4', '4', '4', '4', '4', '4', '4', '4', '4', '-', '4', '4', '4', '3', '4', '4', '4', '3', '4', '-', '-', '4', '4', '4', '4', '4', '4', '4', '4', '4', '-', '4', '4', '4', '3', '4', '4', '4', '3', '4', '-', '-', '4', '4', '4', '4', '4', '4', '4', '4', '4', '-', '4', '4', '4', '3', '4', '4', '4', '3', '4', '-', '-', '4', '4', '4', '4', '4', '4', '4', '4', '4', '-', '4', '4', '4', '3', '4', '4', '4', '3', '4', '-', '-', '4', '4', '4', '4', '4', '4', '4', '4', '4', '-', '4', '4', '4', '3', '4', '4', '4', '3', '4', '-', '-', '4', '4', '4', '4', '4', '4', '4', '4', '4', '-', '4', '4', '4', '3', '4', '4', '4', '3', '4', '-', '5', '5', '5', '-', '4', '5', '5', '4', '3', '5', '5', '-', '5', '4', '4', '4', '-', '3', '4', '4', '4', '-', '-', '3', '-', '4', '-', '3', '4', '4', '4', '5', '4', '4', '4', '4', '5', '4', '5', '4', '4', '4', '2', '4', '3', '-', '4', '3', '4', '4', '5', '-', '-', '5', '4', '4', '-', '4', '-', '-', '5', '5', '5', '-', '4', '5', '5', '4', '3', '5', '5', '-', '5', '4', '4', '4', '-', '3', '4', '4', '4', '-', '-', '3', '-', '4', '-', '3', '4', '4', '4', '5', '4', '4', '4', '4', '5', '4', '5', '4', '4', '4', '2', '4', '3', '-', '4', '3', '4', '4', '5', '-', '-', '5', '4', '4', '-', '4', '-', '-', '5', '5', '5', '-', '4', '5', '5', '4', '3', '5', '5', '-', '5', '4', '4', '4', '-', '3', '4', '4', '4', '-', '-', '3', '-', '4', '-', '3', '4', '4', '4', '5', '4', '4', '4', '4', '5', '4', '5', '4', '4', '4', '2', '4', '3', '-', '4', '3', '4', '4', '5', '-', '-', '5', '4', '4', '-', '4', '-', '-']\n"
     ]
    }
   ],
   "source": [
    "newList = []\n",
    "\n",
    "progress = True\n",
    "i = 0;\n",
    "\n",
    "while (progress):\n",
    "    progress = False\n",
    "    sublist = []\n",
    "\n",
    "    for list in df:\n",
    "        if len(list) <= i:\n",
    "            continue\n",
    "        else:\n",
    "            sublist.append(list[i])\n",
    "            progress = True\n",
    "\n",
    "    if not progress:\n",
    "        break\n",
    "\n",
    "    newList.append(sublist)\n",
    "    i = i+1\n",
    "\n",
    "\n",
    "print(newList[0])"
   ]
  },
  {
   "cell_type": "code",
   "execution_count": 6,
   "metadata": {},
   "outputs": [],
   "source": [
    "Rating=newList[0]"
   ]
  },
  {
   "cell_type": "code",
   "execution_count": 7,
   "metadata": {},
   "outputs": [],
   "source": [
    "data=data.assign(rating=newList[0])"
   ]
  },
  {
   "cell_type": "code",
   "execution_count": 8,
   "metadata": {},
   "outputs": [
    {
     "data": {
      "text/html": [
       "<div>\n",
       "<style scoped>\n",
       "    .dataframe tbody tr th:only-of-type {\n",
       "        vertical-align: middle;\n",
       "    }\n",
       "\n",
       "    .dataframe tbody tr th {\n",
       "        vertical-align: top;\n",
       "    }\n",
       "\n",
       "    .dataframe thead th {\n",
       "        text-align: right;\n",
       "    }\n",
       "</style>\n",
       "<table border=\"1\" class=\"dataframe\">\n",
       "  <thead>\n",
       "    <tr style=\"text-align: right;\">\n",
       "      <th></th>\n",
       "      <th>Unnamed: 0</th>\n",
       "      <th>Name</th>\n",
       "      <th>Rating</th>\n",
       "      <th>Brand</th>\n",
       "      <th>NO_OF_RATINGS</th>\n",
       "      <th>PRICE</th>\n",
       "      <th>rating</th>\n",
       "    </tr>\n",
       "  </thead>\n",
       "  <tbody>\n",
       "    <tr>\n",
       "      <th>0</th>\n",
       "      <td>0</td>\n",
       "      <td>NIBOSI Chronograph Men's Watch ( Black Dial &amp; ...</td>\n",
       "      <td>4.1 out of 5</td>\n",
       "      <td>-</td>\n",
       "      <td>246 ratings</td>\n",
       "      <td>₹2,290.00</td>\n",
       "      <td>4</td>\n",
       "    </tr>\n",
       "    <tr>\n",
       "      <th>1</th>\n",
       "      <td>1</td>\n",
       "      <td>TIMEWEAR Digital Men's Watch</td>\n",
       "      <td>3.8 out of 5</td>\n",
       "      <td>-</td>\n",
       "      <td>12,814 ratings</td>\n",
       "      <td>₹739.00</td>\n",
       "      <td>3</td>\n",
       "    </tr>\n",
       "    <tr>\n",
       "      <th>2</th>\n",
       "      <td>2</td>\n",
       "      <td>RAW STAR Day and Date Functioning Colored Dial...</td>\n",
       "      <td>-</td>\n",
       "      <td>-</td>\n",
       "      <td>-</td>\n",
       "      <td>₹879.00</td>\n",
       "      <td>-</td>\n",
       "    </tr>\n",
       "    <tr>\n",
       "      <th>3</th>\n",
       "      <td>3</td>\n",
       "      <td>Victorinox Chrono Classic Analog Black Dial Me...</td>\n",
       "      <td>4.4 out of 5</td>\n",
       "      <td>-</td>\n",
       "      <td>27 ratings</td>\n",
       "      <td>₹38,760.00</td>\n",
       "      <td>4</td>\n",
       "    </tr>\n",
       "    <tr>\n",
       "      <th>4</th>\n",
       "      <td>4</td>\n",
       "      <td>Gionee STYLFIT GSW6 Smartwatch with Bluetooth ...</td>\n",
       "      <td>-</td>\n",
       "      <td>GIONEE</td>\n",
       "      <td>-</td>\n",
       "      <td>₹2,999.00</td>\n",
       "      <td>-</td>\n",
       "    </tr>\n",
       "  </tbody>\n",
       "</table>\n",
       "</div>"
      ],
      "text/plain": [
       "   Unnamed: 0                                               Name  \\\n",
       "0           0  NIBOSI Chronograph Men's Watch ( Black Dial & ...   \n",
       "1           1                       TIMEWEAR Digital Men's Watch   \n",
       "2           2  RAW STAR Day and Date Functioning Colored Dial...   \n",
       "3           3  Victorinox Chrono Classic Analog Black Dial Me...   \n",
       "4           4  Gionee STYLFIT GSW6 Smartwatch with Bluetooth ...   \n",
       "\n",
       "         Rating   Brand   NO_OF_RATINGS       PRICE rating  \n",
       "0  4.1 out of 5       -     246 ratings   ₹2,290.00      4  \n",
       "1  3.8 out of 5       -  12,814 ratings     ₹739.00      3  \n",
       "2             -       -               -     ₹879.00      -  \n",
       "3  4.4 out of 5       -      27 ratings  ₹38,760.00      4  \n",
       "4             -  GIONEE               -   ₹2,999.00      -  "
      ]
     },
     "execution_count": 8,
     "metadata": {},
     "output_type": "execute_result"
    }
   ],
   "source": [
    "data.head()"
   ]
  },
  {
   "cell_type": "code",
   "execution_count": 9,
   "metadata": {},
   "outputs": [],
   "source": [
    "#extract no of ratings only from object data column\n",
    "data[\"NO_OF_RATINGS\"]=data.NO_OF_RATINGS.str.strip(' ratings')"
   ]
  },
  {
   "cell_type": "code",
   "execution_count": 10,
   "metadata": {},
   "outputs": [],
   "source": [
    "data['NO_OF_RATINGS'] = data['NO_OF_RATINGS'].str.replace(',', '')"
   ]
  },
  {
   "cell_type": "code",
   "execution_count": 11,
   "metadata": {},
   "outputs": [],
   "source": [
    "data['NO_OF_RATINGS'] = data['NO_OF_RATINGS'].str.strip()"
   ]
  },
  {
   "cell_type": "code",
   "execution_count": 12,
   "metadata": {},
   "outputs": [
    {
     "data": {
      "text/plain": [
       "0         246\n",
       "1       12814\n",
       "2           -\n",
       "3          27\n",
       "4           -\n",
       "        ...  \n",
       "1190        1\n",
       "1191        -\n",
       "1192      151\n",
       "1193        -\n",
       "1194        -\n",
       "Name: NO_OF_RATINGS, Length: 1195, dtype: object"
      ]
     },
     "execution_count": 12,
     "metadata": {},
     "output_type": "execute_result"
    }
   ],
   "source": [
    "data.NO_OF_RATINGS"
   ]
  },
  {
   "cell_type": "code",
   "execution_count": 13,
   "metadata": {},
   "outputs": [],
   "source": [
    "data['NO_OF_RATINGS']=pd.to_numeric(data['NO_OF_RATINGS'],errors='coerce')"
   ]
  },
  {
   "cell_type": "code",
   "execution_count": 14,
   "metadata": {},
   "outputs": [],
   "source": [
    "#extract price only from object data column\n",
    "data[\"PRICE\"]=data.PRICE.str.strip(' ₹')"
   ]
  },
  {
   "cell_type": "code",
   "execution_count": 15,
   "metadata": {},
   "outputs": [],
   "source": [
    "data['PRICE'] = data['PRICE'].str.replace(',', '')"
   ]
  },
  {
   "cell_type": "code",
   "execution_count": 16,
   "metadata": {},
   "outputs": [],
   "source": [
    "data['PRICE'] = data['PRICE'].str.strip()"
   ]
  },
  {
   "cell_type": "code",
   "execution_count": 17,
   "metadata": {},
   "outputs": [],
   "source": [
    "data['PRICE']=pd.to_numeric(data['PRICE'],errors='coerce')"
   ]
  },
  {
   "cell_type": "code",
   "execution_count": 18,
   "metadata": {},
   "outputs": [],
   "source": [
    "#drop Unnamed and Rating column now\n",
    "data.drop(columns='Unnamed: 0',inplace=True)"
   ]
  },
  {
   "cell_type": "code",
   "execution_count": 19,
   "metadata": {},
   "outputs": [],
   "source": [
    "#drop Rating column\n",
    "data.drop(columns='Rating',inplace=True)"
   ]
  },
  {
   "cell_type": "code",
   "execution_count": 20,
   "metadata": {},
   "outputs": [
    {
     "data": {
      "text/html": [
       "<div>\n",
       "<style scoped>\n",
       "    .dataframe tbody tr th:only-of-type {\n",
       "        vertical-align: middle;\n",
       "    }\n",
       "\n",
       "    .dataframe tbody tr th {\n",
       "        vertical-align: top;\n",
       "    }\n",
       "\n",
       "    .dataframe thead th {\n",
       "        text-align: right;\n",
       "    }\n",
       "</style>\n",
       "<table border=\"1\" class=\"dataframe\">\n",
       "  <thead>\n",
       "    <tr style=\"text-align: right;\">\n",
       "      <th></th>\n",
       "      <th>Name</th>\n",
       "      <th>Brand</th>\n",
       "      <th>NO_OF_RATINGS</th>\n",
       "      <th>PRICE</th>\n",
       "      <th>rating</th>\n",
       "    </tr>\n",
       "  </thead>\n",
       "  <tbody>\n",
       "    <tr>\n",
       "      <th>0</th>\n",
       "      <td>NIBOSI Chronograph Men's Watch ( Black Dial &amp; ...</td>\n",
       "      <td>-</td>\n",
       "      <td>246.0</td>\n",
       "      <td>2290.0</td>\n",
       "      <td>4</td>\n",
       "    </tr>\n",
       "    <tr>\n",
       "      <th>1</th>\n",
       "      <td>TIMEWEAR Digital Men's Watch</td>\n",
       "      <td>-</td>\n",
       "      <td>12814.0</td>\n",
       "      <td>739.0</td>\n",
       "      <td>3</td>\n",
       "    </tr>\n",
       "    <tr>\n",
       "      <th>2</th>\n",
       "      <td>RAW STAR Day and Date Functioning Colored Dial...</td>\n",
       "      <td>-</td>\n",
       "      <td>NaN</td>\n",
       "      <td>879.0</td>\n",
       "      <td>-</td>\n",
       "    </tr>\n",
       "    <tr>\n",
       "      <th>3</th>\n",
       "      <td>Victorinox Chrono Classic Analog Black Dial Me...</td>\n",
       "      <td>-</td>\n",
       "      <td>27.0</td>\n",
       "      <td>38760.0</td>\n",
       "      <td>4</td>\n",
       "    </tr>\n",
       "    <tr>\n",
       "      <th>4</th>\n",
       "      <td>Gionee STYLFIT GSW6 Smartwatch with Bluetooth ...</td>\n",
       "      <td>GIONEE</td>\n",
       "      <td>NaN</td>\n",
       "      <td>2999.0</td>\n",
       "      <td>-</td>\n",
       "    </tr>\n",
       "  </tbody>\n",
       "</table>\n",
       "</div>"
      ],
      "text/plain": [
       "                                                Name   Brand  NO_OF_RATINGS  \\\n",
       "0  NIBOSI Chronograph Men's Watch ( Black Dial & ...       -          246.0   \n",
       "1                       TIMEWEAR Digital Men's Watch       -        12814.0   \n",
       "2  RAW STAR Day and Date Functioning Colored Dial...       -            NaN   \n",
       "3  Victorinox Chrono Classic Analog Black Dial Me...       -           27.0   \n",
       "4  Gionee STYLFIT GSW6 Smartwatch with Bluetooth ...  GIONEE            NaN   \n",
       "\n",
       "     PRICE rating  \n",
       "0   2290.0      4  \n",
       "1    739.0      3  \n",
       "2    879.0      -  \n",
       "3  38760.0      4  \n",
       "4   2999.0      -  "
      ]
     },
     "execution_count": 20,
     "metadata": {},
     "output_type": "execute_result"
    }
   ],
   "source": [
    "data.head()"
   ]
  },
  {
   "cell_type": "code",
   "execution_count": 21,
   "metadata": {},
   "outputs": [
    {
     "data": {
      "text/plain": [
       "(1195, 5)"
      ]
     },
     "execution_count": 21,
     "metadata": {},
     "output_type": "execute_result"
    }
   ],
   "source": [
    "data.shape"
   ]
  },
  {
   "cell_type": "markdown",
   "metadata": {},
   "source": [
    "data have 3 column and 754 rows "
   ]
  },
  {
   "cell_type": "code",
   "execution_count": 22,
   "metadata": {},
   "outputs": [
    {
     "data": {
      "text/plain": [
       "Name               0\n",
       "Brand              0\n",
       "NO_OF_RATINGS     96\n",
       "PRICE            348\n",
       "rating             0\n",
       "dtype: int64"
      ]
     },
     "execution_count": 22,
     "metadata": {},
     "output_type": "execute_result"
    }
   ],
   "source": [
    "data.isnull().sum()"
   ]
  },
  {
   "cell_type": "code",
   "execution_count": 23,
   "metadata": {},
   "outputs": [],
   "source": [
    "#convert space into null values\n",
    "data['Brand']=data['Brand'].replace('-',np.NaN)\n",
    "data['rating']=data['rating'].replace('-',np.NaN)\n",
    "data['NO_OF_RATINGS']=data['NO_OF_RATINGS'].replace('-',np.NaN)\n",
    "data['PRICE']=data['PRICE'].replace('-',np.NaN)"
   ]
  },
  {
   "cell_type": "code",
   "execution_count": 24,
   "metadata": {},
   "outputs": [
    {
     "data": {
      "text/html": [
       "<div>\n",
       "<style scoped>\n",
       "    .dataframe tbody tr th:only-of-type {\n",
       "        vertical-align: middle;\n",
       "    }\n",
       "\n",
       "    .dataframe tbody tr th {\n",
       "        vertical-align: top;\n",
       "    }\n",
       "\n",
       "    .dataframe thead th {\n",
       "        text-align: right;\n",
       "    }\n",
       "</style>\n",
       "<table border=\"1\" class=\"dataframe\">\n",
       "  <thead>\n",
       "    <tr style=\"text-align: right;\">\n",
       "      <th></th>\n",
       "      <th>Name</th>\n",
       "      <th>Brand</th>\n",
       "      <th>NO_OF_RATINGS</th>\n",
       "      <th>PRICE</th>\n",
       "      <th>rating</th>\n",
       "    </tr>\n",
       "  </thead>\n",
       "  <tbody>\n",
       "    <tr>\n",
       "      <th>0</th>\n",
       "      <td>NIBOSI Chronograph Men's Watch ( Black Dial &amp; ...</td>\n",
       "      <td>NaN</td>\n",
       "      <td>246.0</td>\n",
       "      <td>2290.0</td>\n",
       "      <td>4</td>\n",
       "    </tr>\n",
       "    <tr>\n",
       "      <th>1</th>\n",
       "      <td>TIMEWEAR Digital Men's Watch</td>\n",
       "      <td>NaN</td>\n",
       "      <td>12814.0</td>\n",
       "      <td>739.0</td>\n",
       "      <td>3</td>\n",
       "    </tr>\n",
       "    <tr>\n",
       "      <th>2</th>\n",
       "      <td>RAW STAR Day and Date Functioning Colored Dial...</td>\n",
       "      <td>NaN</td>\n",
       "      <td>NaN</td>\n",
       "      <td>879.0</td>\n",
       "      <td>NaN</td>\n",
       "    </tr>\n",
       "    <tr>\n",
       "      <th>3</th>\n",
       "      <td>Victorinox Chrono Classic Analog Black Dial Me...</td>\n",
       "      <td>NaN</td>\n",
       "      <td>27.0</td>\n",
       "      <td>38760.0</td>\n",
       "      <td>4</td>\n",
       "    </tr>\n",
       "    <tr>\n",
       "      <th>4</th>\n",
       "      <td>Gionee STYLFIT GSW6 Smartwatch with Bluetooth ...</td>\n",
       "      <td>GIONEE</td>\n",
       "      <td>NaN</td>\n",
       "      <td>2999.0</td>\n",
       "      <td>NaN</td>\n",
       "    </tr>\n",
       "  </tbody>\n",
       "</table>\n",
       "</div>"
      ],
      "text/plain": [
       "                                                Name   Brand  NO_OF_RATINGS  \\\n",
       "0  NIBOSI Chronograph Men's Watch ( Black Dial & ...     NaN          246.0   \n",
       "1                       TIMEWEAR Digital Men's Watch     NaN        12814.0   \n",
       "2  RAW STAR Day and Date Functioning Colored Dial...     NaN            NaN   \n",
       "3  Victorinox Chrono Classic Analog Black Dial Me...     NaN           27.0   \n",
       "4  Gionee STYLFIT GSW6 Smartwatch with Bluetooth ...  GIONEE            NaN   \n",
       "\n",
       "     PRICE rating  \n",
       "0   2290.0      4  \n",
       "1    739.0      3  \n",
       "2    879.0    NaN  \n",
       "3  38760.0      4  \n",
       "4   2999.0    NaN  "
      ]
     },
     "execution_count": 24,
     "metadata": {},
     "output_type": "execute_result"
    }
   ],
   "source": [
    "data.head()"
   ]
  },
  {
   "cell_type": "code",
   "execution_count": 25,
   "metadata": {},
   "outputs": [],
   "source": [
    "#impute NaN values\n",
    "data['Brand']=data['Brand'].fillna(data['Brand'].mode()[0])"
   ]
  },
  {
   "cell_type": "code",
   "execution_count": 26,
   "metadata": {},
   "outputs": [],
   "source": [
    "data['rating']=data['rating'].fillna(data['rating'].mode()[0])\n",
    "data['NO_OF_RATINGS']=data['NO_OF_RATINGS'].fillna(data['NO_OF_RATINGS'].mode()[0])\n",
    "data['PRICE']=data['PRICE'].fillna(data['PRICE'].mean())"
   ]
  },
  {
   "cell_type": "code",
   "execution_count": 27,
   "metadata": {},
   "outputs": [
    {
     "data": {
      "text/html": [
       "<div>\n",
       "<style scoped>\n",
       "    .dataframe tbody tr th:only-of-type {\n",
       "        vertical-align: middle;\n",
       "    }\n",
       "\n",
       "    .dataframe tbody tr th {\n",
       "        vertical-align: top;\n",
       "    }\n",
       "\n",
       "    .dataframe thead th {\n",
       "        text-align: right;\n",
       "    }\n",
       "</style>\n",
       "<table border=\"1\" class=\"dataframe\">\n",
       "  <thead>\n",
       "    <tr style=\"text-align: right;\">\n",
       "      <th></th>\n",
       "      <th>Name</th>\n",
       "      <th>Brand</th>\n",
       "      <th>NO_OF_RATINGS</th>\n",
       "      <th>PRICE</th>\n",
       "      <th>rating</th>\n",
       "    </tr>\n",
       "  </thead>\n",
       "  <tbody>\n",
       "    <tr>\n",
       "      <th>0</th>\n",
       "      <td>NIBOSI Chronograph Men's Watch ( Black Dial &amp; ...</td>\n",
       "      <td>Lenovo</td>\n",
       "      <td>246.0</td>\n",
       "      <td>2290.0</td>\n",
       "      <td>4</td>\n",
       "    </tr>\n",
       "    <tr>\n",
       "      <th>1</th>\n",
       "      <td>TIMEWEAR Digital Men's Watch</td>\n",
       "      <td>Lenovo</td>\n",
       "      <td>12814.0</td>\n",
       "      <td>739.0</td>\n",
       "      <td>3</td>\n",
       "    </tr>\n",
       "    <tr>\n",
       "      <th>2</th>\n",
       "      <td>RAW STAR Day and Date Functioning Colored Dial...</td>\n",
       "      <td>Lenovo</td>\n",
       "      <td>3.0</td>\n",
       "      <td>879.0</td>\n",
       "      <td>4</td>\n",
       "    </tr>\n",
       "    <tr>\n",
       "      <th>3</th>\n",
       "      <td>Victorinox Chrono Classic Analog Black Dial Me...</td>\n",
       "      <td>Lenovo</td>\n",
       "      <td>27.0</td>\n",
       "      <td>38760.0</td>\n",
       "      <td>4</td>\n",
       "    </tr>\n",
       "    <tr>\n",
       "      <th>4</th>\n",
       "      <td>Gionee STYLFIT GSW6 Smartwatch with Bluetooth ...</td>\n",
       "      <td>GIONEE</td>\n",
       "      <td>3.0</td>\n",
       "      <td>2999.0</td>\n",
       "      <td>4</td>\n",
       "    </tr>\n",
       "  </tbody>\n",
       "</table>\n",
       "</div>"
      ],
      "text/plain": [
       "                                                Name   Brand  NO_OF_RATINGS  \\\n",
       "0  NIBOSI Chronograph Men's Watch ( Black Dial & ...  Lenovo          246.0   \n",
       "1                       TIMEWEAR Digital Men's Watch  Lenovo        12814.0   \n",
       "2  RAW STAR Day and Date Functioning Colored Dial...  Lenovo            3.0   \n",
       "3  Victorinox Chrono Classic Analog Black Dial Me...  Lenovo           27.0   \n",
       "4  Gionee STYLFIT GSW6 Smartwatch with Bluetooth ...  GIONEE            3.0   \n",
       "\n",
       "     PRICE rating  \n",
       "0   2290.0      4  \n",
       "1    739.0      3  \n",
       "2    879.0      4  \n",
       "3  38760.0      4  \n",
       "4   2999.0      4  "
      ]
     },
     "execution_count": 27,
     "metadata": {},
     "output_type": "execute_result"
    }
   ],
   "source": [
    "data.head()"
   ]
  },
  {
   "cell_type": "code",
   "execution_count": 28,
   "metadata": {},
   "outputs": [
    {
     "data": {
      "text/plain": [
       "Name             295\n",
       "Brand             65\n",
       "NO_OF_RATINGS    237\n",
       "PRICE            159\n",
       "rating             5\n",
       "dtype: int64"
      ]
     },
     "execution_count": 28,
     "metadata": {},
     "output_type": "execute_result"
    }
   ],
   "source": [
    "data.nunique()"
   ]
  },
  {
   "cell_type": "code",
   "execution_count": 29,
   "metadata": {},
   "outputs": [],
   "source": [
    "data['rating']=pd.to_numeric(data['rating'])"
   ]
  },
  {
   "cell_type": "code",
   "execution_count": 30,
   "metadata": {},
   "outputs": [
    {
     "name": "stdout",
     "output_type": "stream",
     "text": [
      "<class 'pandas.core.frame.DataFrame'>\n",
      "RangeIndex: 1195 entries, 0 to 1194\n",
      "Data columns (total 5 columns):\n",
      " #   Column         Non-Null Count  Dtype  \n",
      "---  ------         --------------  -----  \n",
      " 0   Name           1195 non-null   object \n",
      " 1   Brand          1195 non-null   object \n",
      " 2   NO_OF_RATINGS  1195 non-null   float64\n",
      " 3   PRICE          1195 non-null   float64\n",
      " 4   rating         1195 non-null   int64  \n",
      "dtypes: float64(2), int64(1), object(2)\n",
      "memory usage: 46.8+ KB\n"
     ]
    }
   ],
   "source": [
    "data.info()"
   ]
  },
  {
   "cell_type": "code",
   "execution_count": 31,
   "metadata": {},
   "outputs": [
    {
     "data": {
      "text/html": [
       "<div>\n",
       "<style scoped>\n",
       "    .dataframe tbody tr th:only-of-type {\n",
       "        vertical-align: middle;\n",
       "    }\n",
       "\n",
       "    .dataframe tbody tr th {\n",
       "        vertical-align: top;\n",
       "    }\n",
       "\n",
       "    .dataframe thead th {\n",
       "        text-align: right;\n",
       "    }\n",
       "</style>\n",
       "<table border=\"1\" class=\"dataframe\">\n",
       "  <thead>\n",
       "    <tr style=\"text-align: right;\">\n",
       "      <th></th>\n",
       "      <th>NO_OF_RATINGS</th>\n",
       "      <th>PRICE</th>\n",
       "      <th>rating</th>\n",
       "    </tr>\n",
       "  </thead>\n",
       "  <tbody>\n",
       "    <tr>\n",
       "      <th>count</th>\n",
       "      <td>1195.000000</td>\n",
       "      <td>1195.000000</td>\n",
       "      <td>1195.000000</td>\n",
       "    </tr>\n",
       "    <tr>\n",
       "      <th>mean</th>\n",
       "      <td>7778.306276</td>\n",
       "      <td>18321.093447</td>\n",
       "      <td>3.719665</td>\n",
       "    </tr>\n",
       "    <tr>\n",
       "      <th>std</th>\n",
       "      <td>21349.073942</td>\n",
       "      <td>18811.578734</td>\n",
       "      <td>0.599475</td>\n",
       "    </tr>\n",
       "    <tr>\n",
       "      <th>min</th>\n",
       "      <td>1.000000</td>\n",
       "      <td>72.000000</td>\n",
       "      <td>1.000000</td>\n",
       "    </tr>\n",
       "    <tr>\n",
       "      <th>25%</th>\n",
       "      <td>19.000000</td>\n",
       "      <td>4199.000000</td>\n",
       "      <td>3.000000</td>\n",
       "    </tr>\n",
       "    <tr>\n",
       "      <th>50%</th>\n",
       "      <td>314.000000</td>\n",
       "      <td>18321.093447</td>\n",
       "      <td>4.000000</td>\n",
       "    </tr>\n",
       "    <tr>\n",
       "      <th>75%</th>\n",
       "      <td>2134.000000</td>\n",
       "      <td>18321.093447</td>\n",
       "      <td>4.000000</td>\n",
       "    </tr>\n",
       "    <tr>\n",
       "      <th>max</th>\n",
       "      <td>106070.000000</td>\n",
       "      <td>95990.000000</td>\n",
       "      <td>5.000000</td>\n",
       "    </tr>\n",
       "  </tbody>\n",
       "</table>\n",
       "</div>"
      ],
      "text/plain": [
       "       NO_OF_RATINGS         PRICE       rating\n",
       "count    1195.000000   1195.000000  1195.000000\n",
       "mean     7778.306276  18321.093447     3.719665\n",
       "std     21349.073942  18811.578734     0.599475\n",
       "min         1.000000     72.000000     1.000000\n",
       "25%        19.000000   4199.000000     3.000000\n",
       "50%       314.000000  18321.093447     4.000000\n",
       "75%      2134.000000  18321.093447     4.000000\n",
       "max    106070.000000  95990.000000     5.000000"
      ]
     },
     "execution_count": 31,
     "metadata": {},
     "output_type": "execute_result"
    }
   ],
   "source": [
    "data.describe()"
   ]
  },
  {
   "cell_type": "code",
   "execution_count": 32,
   "metadata": {},
   "outputs": [
    {
     "data": {
      "text/html": [
       "<div>\n",
       "<style scoped>\n",
       "    .dataframe tbody tr th:only-of-type {\n",
       "        vertical-align: middle;\n",
       "    }\n",
       "\n",
       "    .dataframe tbody tr th {\n",
       "        vertical-align: top;\n",
       "    }\n",
       "\n",
       "    .dataframe thead th {\n",
       "        text-align: right;\n",
       "    }\n",
       "</style>\n",
       "<table border=\"1\" class=\"dataframe\">\n",
       "  <thead>\n",
       "    <tr style=\"text-align: right;\">\n",
       "      <th></th>\n",
       "      <th>Name</th>\n",
       "      <th>Brand</th>\n",
       "      <th>NO_OF_RATINGS</th>\n",
       "      <th>PRICE</th>\n",
       "      <th>rating</th>\n",
       "    </tr>\n",
       "  </thead>\n",
       "  <tbody>\n",
       "    <tr>\n",
       "      <th>0</th>\n",
       "      <td>NIBOSI Chronograph Men's Watch ( Black Dial &amp; ...</td>\n",
       "      <td>Lenovo</td>\n",
       "      <td>246.0</td>\n",
       "      <td>2290.0</td>\n",
       "      <td>4</td>\n",
       "    </tr>\n",
       "    <tr>\n",
       "      <th>1</th>\n",
       "      <td>TIMEWEAR Digital Men's Watch</td>\n",
       "      <td>Lenovo</td>\n",
       "      <td>12814.0</td>\n",
       "      <td>739.0</td>\n",
       "      <td>3</td>\n",
       "    </tr>\n",
       "    <tr>\n",
       "      <th>2</th>\n",
       "      <td>RAW STAR Day and Date Functioning Colored Dial...</td>\n",
       "      <td>Lenovo</td>\n",
       "      <td>3.0</td>\n",
       "      <td>879.0</td>\n",
       "      <td>4</td>\n",
       "    </tr>\n",
       "    <tr>\n",
       "      <th>3</th>\n",
       "      <td>Victorinox Chrono Classic Analog Black Dial Me...</td>\n",
       "      <td>Lenovo</td>\n",
       "      <td>27.0</td>\n",
       "      <td>38760.0</td>\n",
       "      <td>4</td>\n",
       "    </tr>\n",
       "    <tr>\n",
       "      <th>4</th>\n",
       "      <td>Gionee STYLFIT GSW6 Smartwatch with Bluetooth ...</td>\n",
       "      <td>GIONEE</td>\n",
       "      <td>3.0</td>\n",
       "      <td>2999.0</td>\n",
       "      <td>4</td>\n",
       "    </tr>\n",
       "  </tbody>\n",
       "</table>\n",
       "</div>"
      ],
      "text/plain": [
       "                                                Name   Brand  NO_OF_RATINGS  \\\n",
       "0  NIBOSI Chronograph Men's Watch ( Black Dial & ...  Lenovo          246.0   \n",
       "1                       TIMEWEAR Digital Men's Watch  Lenovo        12814.0   \n",
       "2  RAW STAR Day and Date Functioning Colored Dial...  Lenovo            3.0   \n",
       "3  Victorinox Chrono Classic Analog Black Dial Me...  Lenovo           27.0   \n",
       "4  Gionee STYLFIT GSW6 Smartwatch with Bluetooth ...  GIONEE            3.0   \n",
       "\n",
       "     PRICE  rating  \n",
       "0   2290.0       4  \n",
       "1    739.0       3  \n",
       "2    879.0       4  \n",
       "3  38760.0       4  \n",
       "4   2999.0       4  "
      ]
     },
     "execution_count": 32,
     "metadata": {},
     "output_type": "execute_result"
    }
   ],
   "source": [
    "data.head()"
   ]
  },
  {
   "cell_type": "code",
   "execution_count": 33,
   "metadata": {},
   "outputs": [],
   "source": [
    "#encoding categorical data with label encoding \n",
    "from sklearn.preprocessing import OrdinalEncoder\n",
    "ord=OrdinalEncoder()\n",
    "for i in data:\n",
    "    if data[i].dtypes=='object':\n",
    "         data[i]=ord.fit_transform(data)"
   ]
  },
  {
   "cell_type": "code",
   "execution_count": 34,
   "metadata": {},
   "outputs": [
    {
     "data": {
      "text/html": [
       "<div>\n",
       "<style scoped>\n",
       "    .dataframe tbody tr th:only-of-type {\n",
       "        vertical-align: middle;\n",
       "    }\n",
       "\n",
       "    .dataframe tbody tr th {\n",
       "        vertical-align: top;\n",
       "    }\n",
       "\n",
       "    .dataframe thead th {\n",
       "        text-align: right;\n",
       "    }\n",
       "</style>\n",
       "<table border=\"1\" class=\"dataframe\">\n",
       "  <thead>\n",
       "    <tr style=\"text-align: right;\">\n",
       "      <th></th>\n",
       "      <th>Name</th>\n",
       "      <th>Brand</th>\n",
       "      <th>NO_OF_RATINGS</th>\n",
       "      <th>PRICE</th>\n",
       "      <th>rating</th>\n",
       "    </tr>\n",
       "  </thead>\n",
       "  <tbody>\n",
       "    <tr>\n",
       "      <th>0</th>\n",
       "      <td>156.0</td>\n",
       "      <td>156.0</td>\n",
       "      <td>246.0</td>\n",
       "      <td>2290.0</td>\n",
       "      <td>4</td>\n",
       "    </tr>\n",
       "    <tr>\n",
       "      <th>1</th>\n",
       "      <td>242.0</td>\n",
       "      <td>242.0</td>\n",
       "      <td>12814.0</td>\n",
       "      <td>739.0</td>\n",
       "      <td>3</td>\n",
       "    </tr>\n",
       "    <tr>\n",
       "      <th>2</th>\n",
       "      <td>181.0</td>\n",
       "      <td>181.0</td>\n",
       "      <td>3.0</td>\n",
       "      <td>879.0</td>\n",
       "      <td>4</td>\n",
       "    </tr>\n",
       "    <tr>\n",
       "      <th>3</th>\n",
       "      <td>263.0</td>\n",
       "      <td>263.0</td>\n",
       "      <td>27.0</td>\n",
       "      <td>38760.0</td>\n",
       "      <td>4</td>\n",
       "    </tr>\n",
       "    <tr>\n",
       "      <th>4</th>\n",
       "      <td>95.0</td>\n",
       "      <td>95.0</td>\n",
       "      <td>3.0</td>\n",
       "      <td>2999.0</td>\n",
       "      <td>4</td>\n",
       "    </tr>\n",
       "  </tbody>\n",
       "</table>\n",
       "</div>"
      ],
      "text/plain": [
       "    Name  Brand  NO_OF_RATINGS    PRICE  rating\n",
       "0  156.0  156.0          246.0   2290.0       4\n",
       "1  242.0  242.0        12814.0    739.0       3\n",
       "2  181.0  181.0            3.0    879.0       4\n",
       "3  263.0  263.0           27.0  38760.0       4\n",
       "4   95.0   95.0            3.0   2999.0       4"
      ]
     },
     "execution_count": 34,
     "metadata": {},
     "output_type": "execute_result"
    }
   ],
   "source": [
    "data.head()"
   ]
  },
  {
   "cell_type": "code",
   "execution_count": 35,
   "metadata": {},
   "outputs": [
    {
     "data": {
      "text/plain": [
       "<seaborn.axisgrid.FacetGrid at 0x1a4f06e57f0>"
      ]
     },
     "execution_count": 35,
     "metadata": {},
     "output_type": "execute_result"
    },
    {
     "data": {
      "image/png": "[encoded data removed]",
      "text/plain": [
       "<Figure size 360x360 with 1 Axes>"
      ]
     },
     "metadata": {
      "needs_background": "light"
     },
     "output_type": "display_data"
    }
   ],
   "source": [
    "#Visualization of data distribution \n",
    "\n",
    "sns.displot(data.rating)"
   ]
  },
  {
   "cell_type": "markdown",
   "metadata": {},
   "source": [
    "so most of the rating between 3 to 4 on a average"
   ]
  },
  {
   "cell_type": "code",
   "execution_count": 36,
   "metadata": {},
   "outputs": [
    {
     "data": {
      "text/plain": [
       "<seaborn.axisgrid.FacetGrid at 0x1a4fdd9b7c0>"
      ]
     },
     "execution_count": 36,
     "metadata": {},
     "output_type": "execute_result"
    },
    {
     "data": {
      "image/png": "[encoded data removed]",
      "text/plain": [
       "<Figure size 360x360 with 1 Axes>"
      ]
     },
     "metadata": {
      "needs_background": "light"
     },
     "output_type": "display_data"
    }
   ],
   "source": [
    "sns.displot(data.NO_OF_RATINGS)"
   ]
  },
  {
   "cell_type": "markdown",
   "metadata": {},
   "source": [
    "so most of the product have null review and few are 0 to 2000"
   ]
  },
  {
   "cell_type": "code",
   "execution_count": 37,
   "metadata": {},
   "outputs": [
    {
     "data": {
      "text/plain": [
       "<seaborn.axisgrid.FacetGrid at 0x1a4fdc90850>"
      ]
     },
     "execution_count": 37,
     "metadata": {},
     "output_type": "execute_result"
    },
    {
     "data": {
      "image/png": "[encoded data removed]",
      "text/plain": [
       "<Figure size 360x360 with 1 Axes>"
      ]
     },
     "metadata": {
      "needs_background": "light"
     },
     "output_type": "display_data"
    }
   ],
   "source": [
    "sns.displot(data.PRICE)"
   ]
  },
  {
   "cell_type": "markdown",
   "metadata": {},
   "source": [
    "selected product price range approx 20k to 1 lack"
   ]
  },
  {
   "cell_type": "code",
   "execution_count": 38,
   "metadata": {},
   "outputs": [
    {
     "data": {
      "image/png": "[encoded data removed]",
      "text/plain": [
       "<Figure size 1584x1224 with 2 Axes>"
      ]
     },
     "metadata": {
      "needs_background": "light"
     },
     "output_type": "display_data"
    }
   ],
   "source": [
    "#lets see Plotting Heatmap(Correlation matrix) to check multicollinearity\n",
    "df_corr=data.corr().abs()\n",
    "plt.figure(figsize=(22,17))\n",
    "sns.heatmap(df_corr,vmin=-1,vmax=1,annot=True,square=True,center=0,fmt='.2g',linewidths=0.1)\n",
    "plt.show()"
   ]
  },
  {
   "cell_type": "code",
   "execution_count": 39,
   "metadata": {},
   "outputs": [
    {
     "data": {
      "text/plain": [
       "<AxesSubplot:title={'center':'correlation with target'}>"
      ]
     },
     "execution_count": 39,
     "metadata": {},
     "output_type": "execute_result"
    },
    {
     "data": {
      "image/png": "[encoded data removed]",
      "text/plain": [
       "<Figure size 720x504 with 1 Axes>"
      ]
     },
     "metadata": {
      "needs_background": "light"
     },
     "output_type": "display_data"
    }
   ],
   "source": [
    "#take same data and visualize the correlation with class \n",
    "data.drop('rating',axis=1).corrwith(data.rating).plot(kind='bar',grid=True,figsize=(10,7),\n",
    "                                                 title='correlation with target')"
   ]
  },
  {
   "cell_type": "markdown",
   "metadata": {},
   "source": [
    "yes there is strong correlation with target price shows weak correlation "
   ]
  },
  {
   "cell_type": "markdown",
   "metadata": {},
   "source": [
    "# Features Selection"
   ]
  },
  {
   "cell_type": "code",
   "execution_count": 40,
   "metadata": {},
   "outputs": [],
   "source": [
    "#seprate featurs and label\n",
    "Y=data.rating\n",
    "X=data.drop(columns='rating',axis=1)"
   ]
  },
  {
   "cell_type": "code",
   "execution_count": 41,
   "metadata": {},
   "outputs": [],
   "source": [
    "#Scale the feature data and train test split\n",
    "scaler=StandardScaler()\n",
    "X_scaler=scaler.fit_transform(X)\n",
    "x_train,x_test,y_train,y_test=train_test_split(X_scaler,Y,test_size=0.25,random_state=12)"
   ]
  },
  {
   "cell_type": "markdown",
   "metadata": {},
   "source": [
    "# Linear Regression Model"
   ]
  },
  {
   "cell_type": "code",
   "execution_count": 42,
   "metadata": {},
   "outputs": [],
   "source": [
    "from sklearn.linear_model import LinearRegression"
   ]
  },
  {
   "cell_type": "code",
   "execution_count": 43,
   "metadata": {},
   "outputs": [
    {
     "data": {
      "text/plain": [
       "LinearRegression()"
      ]
     },
     "execution_count": 43,
     "metadata": {},
     "output_type": "execute_result"
    }
   ],
   "source": [
    "Lr=LinearRegression()\n",
    "Lr.fit(x_train,y_train)"
   ]
  },
  {
   "cell_type": "code",
   "execution_count": 44,
   "metadata": {},
   "outputs": [],
   "source": [
    "y_pred=Lr.predict(x_test)"
   ]
  },
  {
   "cell_type": "code",
   "execution_count": 45,
   "metadata": {},
   "outputs": [
    {
     "data": {
      "text/plain": [
       "0.043560076945074355"
      ]
     },
     "execution_count": 45,
     "metadata": {},
     "output_type": "execute_result"
    }
   ],
   "source": [
    "#linear model training score\n",
    "Lr.score(x_train,y_train)"
   ]
  },
  {
   "cell_type": "code",
   "execution_count": 46,
   "metadata": {},
   "outputs": [
    {
     "data": {
      "text/plain": [
       "0.4130451226605979"
      ]
     },
     "execution_count": 46,
     "metadata": {},
     "output_type": "execute_result"
    }
   ],
   "source": [
    "#mean absolute erro\n",
    "mean_absolute_error(y_pred,y_test)"
   ]
  },
  {
   "cell_type": "code",
   "execution_count": 47,
   "metadata": {},
   "outputs": [],
   "source": [
    "#model building with Decesion tree \n",
    "from sklearn.tree import DecisionTreeRegressor"
   ]
  },
  {
   "cell_type": "code",
   "execution_count": 48,
   "metadata": {},
   "outputs": [
    {
     "data": {
      "text/plain": [
       "DecisionTreeRegressor()"
      ]
     },
     "execution_count": 48,
     "metadata": {},
     "output_type": "execute_result"
    }
   ],
   "source": [
    "dt=DecisionTreeRegressor()\n",
    "dt.fit(x_train,y_train)"
   ]
  },
  {
   "cell_type": "code",
   "execution_count": 49,
   "metadata": {},
   "outputs": [
    {
     "data": {
      "text/plain": [
       "1.0"
      ]
     },
     "execution_count": 49,
     "metadata": {},
     "output_type": "execute_result"
    }
   ],
   "source": [
    "dt.score(x_train,y_train)"
   ]
  },
  {
   "cell_type": "code",
   "execution_count": 50,
   "metadata": {},
   "outputs": [],
   "source": [
    "from sklearn.model_selection import cross_val_score"
   ]
  },
  {
   "cell_type": "code",
   "execution_count": 51,
   "metadata": {},
   "outputs": [
    {
     "data": {
      "text/plain": [
       "-0.6528457961659851"
      ]
     },
     "execution_count": 51,
     "metadata": {},
     "output_type": "execute_result"
    }
   ],
   "source": [
    "cross_val_score(dt,X_scaler,Y,cv=5).mean()"
   ]
  },
  {
   "cell_type": "markdown",
   "metadata": {},
   "source": [
    "Hyperparamter tuning of Decision Tree model"
   ]
  },
  {
   "cell_type": "code",
   "execution_count": 52,
   "metadata": {},
   "outputs": [],
   "source": [
    "from sklearn.model_selection import GridSearchCV"
   ]
  },
  {
   "cell_type": "code",
   "execution_count": 53,
   "metadata": {},
   "outputs": [],
   "source": [
    "parametrs={'criterion':['mse'],\n",
    "    'max_depth':range(1,20,2),\n",
    "    'min_samples_split':range(2,16, 2),\n",
    "    'min_samples_leaf':range(1,10,1),\n",
    "    'min_weight_fraction_leaf':[0.01,0.02,0.1,1]}"
   ]
  },
  {
   "cell_type": "code",
   "execution_count": 54,
   "metadata": {},
   "outputs": [],
   "source": [
    "grid_search=GridSearchCV(estimator=dt,param_grid=parametrs,cv=5)"
   ]
  },
  {
   "cell_type": "code",
   "execution_count": 55,
   "metadata": {},
   "outputs": [
    {
     "data": {
      "text/plain": [
       "GridSearchCV(cv=5, estimator=DecisionTreeRegressor(),\n",
       "             param_grid={'criterion': ['mse'], 'max_depth': range(1, 20, 2),\n",
       "                         'min_samples_leaf': range(1, 10),\n",
       "                         'min_samples_split': range(2, 16, 2),\n",
       "                         'min_weight_fraction_leaf': [0.01, 0.02, 0.1, 1]})"
      ]
     },
     "execution_count": 55,
     "metadata": {},
     "output_type": "execute_result"
    }
   ],
   "source": [
    "grid_search.fit(x_train,y_train)"
   ]
  },
  {
   "cell_type": "code",
   "execution_count": 56,
   "metadata": {},
   "outputs": [
    {
     "data": {
      "text/plain": [
       "{'criterion': 'mse',\n",
       " 'max_depth': 17,\n",
       " 'min_samples_leaf': 7,\n",
       " 'min_samples_split': 2,\n",
       " 'min_weight_fraction_leaf': 0.01}"
      ]
     },
     "execution_count": 56,
     "metadata": {},
     "output_type": "execute_result"
    }
   ],
   "source": [
    "grid_search.best_params_"
   ]
  },
  {
   "cell_type": "code",
   "execution_count": 57,
   "metadata": {},
   "outputs": [],
   "source": [
    "dt=DecisionTreeRegressor(criterion='mse',\n",
    "                         max_depth=3,min_samples_leaf=8,min_samples_split=2,min_weight_fraction_leaf=0.01)"
   ]
  },
  {
   "cell_type": "code",
   "execution_count": 58,
   "metadata": {},
   "outputs": [
    {
     "data": {
      "text/plain": [
       "DecisionTreeRegressor(max_depth=3, min_samples_leaf=8,\n",
       "                      min_weight_fraction_leaf=0.01)"
      ]
     },
     "execution_count": 58,
     "metadata": {},
     "output_type": "execute_result"
    }
   ],
   "source": [
    "dt.fit(x_train,y_train)"
   ]
  },
  {
   "cell_type": "code",
   "execution_count": 59,
   "metadata": {},
   "outputs": [
    {
     "data": {
      "text/plain": [
       "0.27878670403646055"
      ]
     },
     "execution_count": 59,
     "metadata": {},
     "output_type": "execute_result"
    }
   ],
   "source": [
    "dt.score(x_train,y_train)"
   ]
  },
  {
   "cell_type": "code",
   "execution_count": 60,
   "metadata": {},
   "outputs": [],
   "source": [
    "y_pred=dt.predict(x_test)"
   ]
  },
  {
   "cell_type": "code",
   "execution_count": 61,
   "metadata": {},
   "outputs": [
    {
     "name": "stdout",
     "output_type": "stream",
     "text": [
      "**** accuracy post tuning****\n",
      "0.21247531032143008\n"
     ]
    }
   ],
   "source": [
    "print('**** accuracy post tuning****')\n",
    "print(r2_score(y_test,y_pred))   "
   ]
  },
  {
   "cell_type": "code",
   "execution_count": 62,
   "metadata": {},
   "outputs": [
    {
     "data": {
      "text/plain": [
       "-0.18153340576335833"
      ]
     },
     "execution_count": 62,
     "metadata": {},
     "output_type": "execute_result"
    }
   ],
   "source": [
    "cross_val_score(dt,X_scaler,Y,cv=7).mean()"
   ]
  },
  {
   "cell_type": "code",
   "execution_count": 209,
   "metadata": {},
   "outputs": [
    {
     "data": {
      "image/png": "[encoded data removed]",
      "text/plain": [
       "<Figure size 432x288 with 1 Axes>"
      ]
     },
     "metadata": {
      "needs_background": "light"
     },
     "output_type": "display_data"
    }
   ],
   "source": [
    "#Visualization of actual vs predicted rating\n",
    "plt.scatter(y_test,y_pred)\n",
    "plt.xlabel('actual rating')\n",
    "plt.ylabel('predicted  rating')\n",
    "plt.title('actual vs model predicted')\n",
    "plt.show()"
   ]
  },
  {
   "cell_type": "markdown",
   "metadata": {},
   "source": [
    "# Gradient Boosting Regression Model"
   ]
  },
  {
   "cell_type": "code",
   "execution_count": 228,
   "metadata": {},
   "outputs": [],
   "source": [
    "from sklearn.ensemble import GradientBoostingRegressor\n",
    "gbr=GradientBoostingRegressor()"
   ]
  },
  {
   "cell_type": "code",
   "execution_count": 229,
   "metadata": {},
   "outputs": [
    {
     "data": {
      "text/plain": [
       "GradientBoostingRegressor()"
      ]
     },
     "execution_count": 229,
     "metadata": {},
     "output_type": "execute_result"
    }
   ],
   "source": [
    "gbr.fit(x_train,y_train)"
   ]
  },
  {
   "cell_type": "code",
   "execution_count": 230,
   "metadata": {},
   "outputs": [
    {
     "data": {
      "text/plain": [
       "0.8001886393709171"
      ]
     },
     "execution_count": 230,
     "metadata": {},
     "output_type": "execute_result"
    }
   ],
   "source": [
    "#check model score\n",
    "gbr.score(x_train,y_train)"
   ]
  },
  {
   "cell_type": "code",
   "execution_count": 233,
   "metadata": {},
   "outputs": [],
   "source": [
    "y_pred=gbr.predict(x_train)"
   ]
  },
  {
   "cell_type": "code",
   "execution_count": 234,
   "metadata": {},
   "outputs": [
    {
     "data": {
      "image/png": "[encoded data removed]",
      "text/plain": [
       "<Figure size 432x288 with 1 Axes>"
      ]
     },
     "metadata": {
      "needs_background": "light"
     },
     "output_type": "display_data"
    }
   ],
   "source": [
    "#Visualization of actual vs predicted rating\n",
    "plt.scatter(y_train,y_pred)\n",
    "plt.xlabel('actual rating')\n",
    "plt.ylabel('predicted  rating')\n",
    "plt.title('actual vs model predicted')\n",
    "plt.show()"
   ]
  },
  {
   "cell_type": "code",
   "execution_count": 215,
   "metadata": {},
   "outputs": [
    {
     "data": {
      "text/plain": [
       "-0.1575600777248799"
      ]
     },
     "execution_count": 215,
     "metadata": {},
     "output_type": "execute_result"
    }
   ],
   "source": [
    "cross_val_score(gbr,X_scaler,Y,cv=5).mean()"
   ]
  },
  {
   "cell_type": "markdown",
   "metadata": {},
   "source": [
    "model is underfit but as per sactter plot seems not good lets tune the model"
   ]
  },
  {
   "cell_type": "code",
   "execution_count": 216,
   "metadata": {},
   "outputs": [],
   "source": [
    "param={'loss':['ls'],\n",
    "    'learning_rate':[0.1,0.2,0.3,0.4],\n",
    "    'n_estimators':[100,150,200,250],\n",
    "    'subsample':[1.0,2,3,4,7],\n",
    "    'criterion':['friedman_mse']}"
   ]
  },
  {
   "cell_type": "code",
   "execution_count": 217,
   "metadata": {},
   "outputs": [],
   "source": [
    "grid_search=GridSearchCV(estimator=gbr,param_grid=param,cv=5)"
   ]
  },
  {
   "cell_type": "code",
   "execution_count": 218,
   "metadata": {},
   "outputs": [
    {
     "data": {
      "text/plain": [
       "GridSearchCV(cv=5, estimator=GradientBoostingRegressor(),\n",
       "             param_grid={'criterion': ['friedman_mse'],\n",
       "                         'learning_rate': [0.1, 0.2, 0.3, 0.4], 'loss': ['ls'],\n",
       "                         'n_estimators': [100, 150, 200, 250],\n",
       "                         'subsample': [1.0, 2, 3, 4, 7]})"
      ]
     },
     "execution_count": 218,
     "metadata": {},
     "output_type": "execute_result"
    }
   ],
   "source": [
    "grid_search.fit(x_train,y_train)"
   ]
  },
  {
   "cell_type": "code",
   "execution_count": 219,
   "metadata": {},
   "outputs": [
    {
     "data": {
      "text/plain": [
       "{'criterion': 'friedman_mse',\n",
       " 'learning_rate': 0.4,\n",
       " 'loss': 'ls',\n",
       " 'n_estimators': 150,\n",
       " 'subsample': 1.0}"
      ]
     },
     "execution_count": 219,
     "metadata": {},
     "output_type": "execute_result"
    }
   ],
   "source": [
    "grid_search.best_params_"
   ]
  },
  {
   "cell_type": "code",
   "execution_count": 220,
   "metadata": {},
   "outputs": [],
   "source": [
    "gbr=GradientBoostingRegressor(criterion='friedman_mse',learning_rate=0.2, loss='ls',n_estimators=200,subsample=1)"
   ]
  },
  {
   "cell_type": "code",
   "execution_count": 221,
   "metadata": {},
   "outputs": [
    {
     "data": {
      "text/plain": [
       "GradientBoostingRegressor(learning_rate=0.2, n_estimators=200, subsample=1)"
      ]
     },
     "execution_count": 221,
     "metadata": {},
     "output_type": "execute_result"
    }
   ],
   "source": [
    "gbr.fit(x_train,y_train)"
   ]
  },
  {
   "cell_type": "code",
   "execution_count": 222,
   "metadata": {},
   "outputs": [
    {
     "data": {
      "text/plain": [
       "0.9836155196903433"
      ]
     },
     "execution_count": 222,
     "metadata": {},
     "output_type": "execute_result"
    }
   ],
   "source": [
    "gbr.score(x_train,y_train)"
   ]
  },
  {
   "cell_type": "markdown",
   "metadata": {},
   "source": [
    "score improved after tuning the model"
   ]
  },
  {
   "cell_type": "code",
   "execution_count": 223,
   "metadata": {},
   "outputs": [],
   "source": [
    "y_pred=gbr.predict(x_train)"
   ]
  },
  {
   "cell_type": "code",
   "execution_count": 224,
   "metadata": {},
   "outputs": [
    {
     "data": {
      "text/plain": [
       "0.036831469162254035"
      ]
     },
     "execution_count": 224,
     "metadata": {},
     "output_type": "execute_result"
    }
   ],
   "source": [
    "cross_val_score(gbr,X_scaler,Y,cv=5).mean()"
   ]
  },
  {
   "cell_type": "code",
   "execution_count": 226,
   "metadata": {},
   "outputs": [
    {
     "data": {
      "image/png": "[encoded data removed]",
      "text/plain": [
       "<Figure size 432x288 with 1 Axes>"
      ]
     },
     "metadata": {
      "needs_background": "light"
     },
     "output_type": "display_data"
    }
   ],
   "source": [
    "#Visualization of actual vs predicted price after tuning\n",
    "plt.scatter(y_train,y_pred)\n",
    "plt.xlabel('actual rating')\n",
    "plt.ylabel('predicted  rating')\n",
    "plt.title('actual vs model predicted')\n",
    "plt.show()"
   ]
  },
  {
   "cell_type": "markdown",
   "metadata": {},
   "source": [
    "# RandomForest Regression model"
   ]
  },
  {
   "cell_type": "code",
   "execution_count": 63,
   "metadata": {},
   "outputs": [
    {
     "data": {
      "text/plain": [
       "RandomForestRegressor()"
      ]
     },
     "execution_count": 63,
     "metadata": {},
     "output_type": "execute_result"
    }
   ],
   "source": [
    "#RandomForestRegressor model\n",
    "from sklearn.ensemble import RandomForestRegressor\n",
    "rfr=RandomForestRegressor()\n",
    "rfr.fit(x_train,y_train)"
   ]
  },
  {
   "cell_type": "code",
   "execution_count": 64,
   "metadata": {},
   "outputs": [],
   "source": [
    "y_pred=rfr.predict(x_train)"
   ]
  },
  {
   "cell_type": "code",
   "execution_count": 65,
   "metadata": {},
   "outputs": [
    {
     "data": {
      "text/plain": [
       "0.9798608978458513"
      ]
     },
     "execution_count": 65,
     "metadata": {},
     "output_type": "execute_result"
    }
   ],
   "source": [
    "rfr.score(x_train,y_train)"
   ]
  },
  {
   "cell_type": "code",
   "execution_count": 66,
   "metadata": {},
   "outputs": [
    {
     "data": {
      "text/plain": [
       "0.02837670374790493"
      ]
     },
     "execution_count": 66,
     "metadata": {},
     "output_type": "execute_result"
    }
   ],
   "source": [
    "cross_val_score(rfr,X_scaler,Y,cv=5).mean()"
   ]
  },
  {
   "cell_type": "code",
   "execution_count": 67,
   "metadata": {},
   "outputs": [
    {
     "data": {
      "image/png": "[encoded data removed]",
      "text/plain": [
       "<Figure size 432x288 with 1 Axes>"
      ]
     },
     "metadata": {
      "needs_background": "light"
     },
     "output_type": "display_data"
    }
   ],
   "source": [
    "#Visualization of actual vs predicted rating\n",
    "plt.scatter(y_train,y_pred)\n",
    "plt.xlabel('actual rating')\n",
    "plt.ylabel('predicted  rating')\n",
    "plt.title('actual vs model predicted')\n",
    "plt.show()"
   ]
  },
  {
   "cell_type": "markdown",
   "metadata": {},
   "source": [
    "# Hyperparameter Tuning of RandomForestRegression model"
   ]
  },
  {
   "cell_type": "code",
   "execution_count": 68,
   "metadata": {},
   "outputs": [],
   "source": [
    "param_grid = {  'bootstrap': [True],\n",
    "              'max_depth': [5, 10, 15], \n",
    "              'max_features': ['auto', 'log2'], \n",
    "              'n_estimators': [5, 6, 7, 8, 9, 10, 11, 12, 13, 15]}"
   ]
  },
  {
   "cell_type": "code",
   "execution_count": 69,
   "metadata": {},
   "outputs": [],
   "source": [
    "grid=GridSearchCV(estimator=rfr,param_grid=param_grid,cv=5,n_jobs=-1)"
   ]
  },
  {
   "cell_type": "code",
   "execution_count": 70,
   "metadata": {},
   "outputs": [
    {
     "data": {
      "text/plain": [
       "GridSearchCV(cv=5, estimator=RandomForestRegressor(), n_jobs=-1,\n",
       "             param_grid={'bootstrap': [True], 'max_depth': [5, 10, 15],\n",
       "                         'max_features': ['auto', 'log2'],\n",
       "                         'n_estimators': [5, 6, 7, 8, 9, 10, 11, 12, 13, 15]})"
      ]
     },
     "execution_count": 70,
     "metadata": {},
     "output_type": "execute_result"
    }
   ],
   "source": [
    "grid.fit(x_train,y_train)"
   ]
  },
  {
   "cell_type": "code",
   "execution_count": 71,
   "metadata": {},
   "outputs": [
    {
     "data": {
      "text/plain": [
       "{'bootstrap': True,\n",
       " 'max_depth': 15,\n",
       " 'max_features': 'log2',\n",
       " 'n_estimators': 12}"
      ]
     },
     "execution_count": 71,
     "metadata": {},
     "output_type": "execute_result"
    }
   ],
   "source": [
    "grid.best_params_"
   ]
  },
  {
   "cell_type": "code",
   "execution_count": 72,
   "metadata": {},
   "outputs": [],
   "source": [
    "regr=RandomForestRegressor(bootstrap=True,max_depth=15,max_features='log2',n_estimators=13)"
   ]
  },
  {
   "cell_type": "code",
   "execution_count": 73,
   "metadata": {},
   "outputs": [
    {
     "data": {
      "text/plain": [
       "RandomForestRegressor(max_depth=15, max_features='log2', n_estimators=13)"
      ]
     },
     "execution_count": 73,
     "metadata": {},
     "output_type": "execute_result"
    }
   ],
   "source": [
    "regr.fit(x_train,y_train)"
   ]
  },
  {
   "cell_type": "code",
   "execution_count": 74,
   "metadata": {},
   "outputs": [
    {
     "data": {
      "text/plain": [
       "0.9674846531336186"
      ]
     },
     "execution_count": 74,
     "metadata": {},
     "output_type": "execute_result"
    }
   ],
   "source": [
    "regr.score(x_train,y_train)"
   ]
  },
  {
   "cell_type": "code",
   "execution_count": 75,
   "metadata": {},
   "outputs": [],
   "source": [
    "y_pred=regr.predict(x_train)"
   ]
  },
  {
   "cell_type": "code",
   "execution_count": 76,
   "metadata": {},
   "outputs": [
    {
     "data": {
      "text/plain": [
       "0.05552701769243131"
      ]
     },
     "execution_count": 76,
     "metadata": {},
     "output_type": "execute_result"
    }
   ],
   "source": [
    "cross_val_score(regr,X_scaler,Y,cv=5).mean()"
   ]
  },
  {
   "cell_type": "code",
   "execution_count": 77,
   "metadata": {},
   "outputs": [
    {
     "data": {
      "image/png": "[encoded data removed]",
      "text/plain": [
       "<Figure size 432x288 with 1 Axes>"
      ]
     },
     "metadata": {
      "needs_background": "light"
     },
     "output_type": "display_data"
    }
   ],
   "source": [
    "#Visualization of actual vs predicted rating\n",
    "plt.scatter(y_train,y_pred)\n",
    "plt.xlabel('actual rating')\n",
    "plt.ylabel('predicted  rating')\n",
    "plt.title('actual vs model predicted')\n",
    "plt.show()"
   ]
  },
  {
   "cell_type": "code",
   "execution_count": 78,
   "metadata": {},
   "outputs": [],
   "source": [
    "#saving model AdaBoost model\n",
    "import pickle\n",
    "file='pikle_ada_model'\n",
    "with open(file ,'wb') as file:\n",
    "    pickle.dump(rfr, file)"
   ]
  },
  {
   "cell_type": "code",
   "execution_count": null,
   "metadata": {},
   "outputs": [],
   "source": []
  }
 ],
 "metadata": {
  "kernelspec": {
   "display_name": "Python 3",
   "language": "python",
   "name": "python3"
  },
  "language_info": {
   "codemirror_mode": {
    "name": "ipython",
    "version": 3
   },
   "file_extension": ".py",
   "mimetype": "text/x-python",
   "name": "python",
   "nbconvert_exporter": "python",
   "pygments_lexer": "ipython3",
   "version": "3.8.5"
  }
 },
 "nbformat": 4,
 "nbformat_minor": 4
}
